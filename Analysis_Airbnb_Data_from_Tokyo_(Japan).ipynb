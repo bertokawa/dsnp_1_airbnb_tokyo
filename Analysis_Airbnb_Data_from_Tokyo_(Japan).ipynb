{
  "nbformat": 4,
  "nbformat_minor": 0,
  "metadata": {
    "colab": {
      "name": "Analysis Airbnb Data from Tokyo (Japan).ipynb",
      "provenance": [],
      "collapsed_sections": [],
      "include_colab_link": true
    },
    "kernelspec": {
      "name": "python3",
      "display_name": "Python 3"
    }
  },
  "cells": [
    {
      "cell_type": "markdown",
      "metadata": {
        "id": "view-in-github",
        "colab_type": "text"
      },
      "source": [
        "<a href=\"https://colab.research.google.com/github/bertokawa/dsnp_1_airbnb_tokyo/blob/master/Analysis_Airbnb_Data_from_Tokyo_(Japan).ipynb\" target=\"_parent\"><img src=\"https://colab.research.google.com/assets/colab-badge.svg\" alt=\"Open In Colab\"/></a>"
      ]
    },
    {
      "cell_type": "markdown",
      "metadata": {
        "id": "kLI0gJtzDGuQ",
        "colab_type": "text"
      },
      "source": [
        "# **Project 1 in *Data Science na Pratica***\n",
        "*by Humberto Cavamura ([Github](https://github.com/bertokawa)*)\n",
        "\n",
        "---\n",
        "\n",
        "# **Analysing Data from Airbnb - *Tokyo (JAPAN)***\n",
        "\n",
        "<center><img alt=\\\"letras-ciudad-tokio\\\" width=\\\"10%\\\" src=z\"/content/sample_data/3225888.jpg\\\"></center>\n",
        "<center><a href=z\"http://www.freepik.comz\">Designed by Freepik</a></center>\n",
        "\n",
        "![texto alternativo](https://www.area360.com.au/wp-content/uploads/2017/09/airbnb-logo.jpg)\n",
        "\n",
        "One of the biggest startups in the world, the [Airbnb](https://www.airbnb.com/) changed the hotel industry with new concepts like share economy and the disruptive innovation. It created a digital platform that connects people who need a place to stay for a few nights and those who have it. So, without owning a single accomodation, Airbnb share many kinds of places like single room, entire apartaments for a more reasonable price.\n",
        "\n",
        "<center><img alt=\"Analisando Airbnb\" width=\"10%\" src=\"https://www.area360.com.au/wp-content/uploads/2017/09/airbnb-logo.jpg\"></center>\n",
        "\n",
        "With the massive expansion of the Airbnb, another independent inniciative began to growth, is called [Inside Airbnb](http://insideairbnb.com/). It has been offering some data in internet to people see how Airbnb is present in the cities and how it might affecting this sector. There is a rivalry between them, Inside Airbnb is questioning the benefits of the Airbnb, but talking about this issue is not the objetive of this project.\n",
        "\n",
        "Here will be dedicated in analysing data from the Inside Airbnb about Tokyo(Japan) and see the insights it can bring. The Japan's capital is receiving more and more tourist along the years, to know it's tradional and modern culture. \n",
        "\n",
        "\n",
        "\n",
        "Another thing thius can be a little help to the reader check how Tokyo is  is beacuse this city was going to be the host of the Olympic Games and the Paraolympic Games in 2020. However beacuse of the covid-19 pandemic this event was delayed to the middle of 2021. So this project will show some analysis how are the accomodations, in the Airbnb's point of view. In the end, it can maybe help the reader to choose Tokyo as a travel detiny or light a flame to want to see this event.\n"
      ]
    },
    {
      "cell_type": "code",
      "metadata": {
        "id": "bBfqz4mPSw8M",
        "colab_type": "code",
        "colab": {}
      },
      "source": [
        ""
      ],
      "execution_count": null,
      "outputs": []
    },
    {
      "cell_type": "markdown",
      "metadata": {
        "id": "0zxQHhIUDF_2",
        "colab_type": "text"
      },
      "source": [
        "## **First steps - Data acquisition**"
      ]
    },
    {
      "cell_type": "markdown",
      "metadata": {
        "id": "JpgnvgxWwhoo",
        "colab_type": "text"
      },
      "source": [
        "### **Introduction**\n",
        "\n",
        "The tool used in here was Python languge and the following package:"
      ]
    },
    {
      "cell_type": "code",
      "metadata": {
        "id": "Vhp2wMPgJ6zX",
        "colab_type": "code",
        "colab": {
          "base_uri": "https://localhost:8080/",
          "height": 52
        },
        "outputId": "5838f14a-6e16-4fdb-c96b-ca7412bd2084"
      },
      "source": [
        "import pandas as pd;\n",
        "import matplotlib.pyplot as plt;\n",
        "import seaborn as sns;"
      ],
      "execution_count": 1,
      "outputs": [
        {
          "output_type": "stream",
          "text": [
            "/usr/local/lib/python3.6/dist-packages/statsmodels/tools/_testing.py:19: FutureWarning: pandas.util.testing is deprecated. Use the functions in the public API at pandas.testing instead.\n",
            "  import pandas.util.testing as tm\n"
          ],
          "name": "stderr"
        }
      ]
    },
    {
      "cell_type": "markdown",
      "metadata": {
        "id": "newhiu2ZIu_k",
        "colab_type": "text"
      },
      "source": [
        "To starting analysing the was chosen the file [listings.csv](http://data.insideairbnb.com/japan/kant%C5%8D/tokyo/2020-05-30/visualisations/listings.csv) from the site [Get the Data - Inside Airbnb](http://insideairbnb.com/get-the-data.html). This file was chosen due the file is more compact but it have enough data to use."
      ]
    },
    {
      "cell_type": "code",
      "metadata": {
        "id": "tUmoAT8DLQ5T",
        "colab_type": "code",
        "colab": {}
      },
      "source": [
        "df = pd.read_csv (\"http://data.insideairbnb.com/japan/kant%C5%8D/tokyo/2020-05-30/visualisations/listings.csv\")"
      ],
      "execution_count": 2,
      "outputs": []
    },
    {
      "cell_type": "markdown",
      "metadata": {
        "id": "iiVhkjoYLSAU",
        "colab_type": "text"
      },
      "source": [
        "### **About the file**\n",
        "\n",
        "Let's show inside the file and how the variables and values are organized."
      ]
    },
    {
      "cell_type": "code",
      "metadata": {
        "id": "9jCpdv-sLZZy",
        "colab_type": "code",
        "colab": {
          "base_uri": "https://localhost:8080/",
          "height": 52
        },
        "outputId": "5f8b2ef6-7e36-4c52-e903-11b3338b028e"
      },
      "source": [
        "print (\"{} inputs of data.\".format(df.shape[0]))\n",
        "print (\"{} variables.\".format(df.shape[1]))"
      ],
      "execution_count": 3,
      "outputs": [
        {
          "output_type": "stream",
          "text": [
            "15009 inputs of data.\n",
            "16 variables.\n"
          ],
          "name": "stdout"
        }
      ]
    },
    {
      "cell_type": "code",
      "metadata": {
        "id": "v6-85nqltVHm",
        "colab_type": "code",
        "colab": {
          "base_uri": "https://localhost:8080/",
          "height": 312
        },
        "outputId": "0e5e1574-eddf-4da5-bbcc-d863cf19efb4"
      },
      "source": [
        "df.dtypes"
      ],
      "execution_count": 4,
      "outputs": [
        {
          "output_type": "execute_result",
          "data": {
            "text/plain": [
              "id                                  int64\n",
              "name                               object\n",
              "host_id                             int64\n",
              "host_name                          object\n",
              "neighbourhood_group               float64\n",
              "neighbourhood                      object\n",
              "latitude                          float64\n",
              "longitude                         float64\n",
              "room_type                          object\n",
              "price                               int64\n",
              "minimum_nights                      int64\n",
              "number_of_reviews                   int64\n",
              "last_review                        object\n",
              "reviews_per_month                 float64\n",
              "calculated_host_listings_count      int64\n",
              "availability_365                    int64\n",
              "dtype: object"
            ]
          },
          "metadata": {
            "tags": []
          },
          "execution_count": 4
        }
      ]
    },
    {
      "cell_type": "markdown",
      "metadata": {
        "id": "Ps_4mC6PMKne",
        "colab_type": "text"
      },
      "source": [
        "It can be a little confusing seen the data as shown as above, but here a little description:\n",
        "\n",
        "* id - ID number of the place\n",
        "* name - name given to the place\n",
        "* host_id - ID number of the host\n",
        "* host_name - name of the host\n",
        "* neighbourhood_group - a column without data\n",
        "* neighbourhood - name of the neighbourhood\n",
        "* latitude - latitude of the place\n",
        "* longitude - longitude of the place\n",
        "* room_type - type of the place\n",
        "* price - price to rent\n",
        "* minimum_nights - minimum nights to stay\n",
        "* number_of_reviews - the number of reviews received\n",
        "* last_review - when was the last review\n",
        "* reviews_per_month - mean of the review per month\n",
        "* calculated_host_listings_count - how many places the host has\n",
        "* availability_365 - how many days the place is available in 365 days"
      ]
    },
    {
      "cell_type": "markdown",
      "metadata": {
        "id": "Sq2ARMHuuSie",
        "colab_type": "text"
      },
      "source": [
        "### **Example of the table**"
      ]
    },
    {
      "cell_type": "markdown",
      "metadata": {
        "id": "BIlohLiSeYYT",
        "colab_type": "text"
      },
      "source": [
        "The first five inputs from the file, to see if the table need some adjustings."
      ]
    },
    {
      "cell_type": "code",
      "metadata": {
        "id": "2iS_dae7YQtO",
        "colab_type": "code",
        "colab": {
          "base_uri": "https://localhost:8080/",
          "height": 465
        },
        "outputId": "221e8d31-73c0-47ea-cdf7-481e869d91f8"
      },
      "source": [
        "df.head(5)"
      ],
      "execution_count": 5,
      "outputs": [
        {
          "output_type": "execute_result",
          "data": {
            "text/html": [
              "<div>\n",
              "<style scoped>\n",
              "    .dataframe tbody tr th:only-of-type {\n",
              "        vertical-align: middle;\n",
              "    }\n",
              "\n",
              "    .dataframe tbody tr th {\n",
              "        vertical-align: top;\n",
              "    }\n",
              "\n",
              "    .dataframe thead th {\n",
              "        text-align: right;\n",
              "    }\n",
              "</style>\n",
              "<table border=\"1\" class=\"dataframe\">\n",
              "  <thead>\n",
              "    <tr style=\"text-align: right;\">\n",
              "      <th></th>\n",
              "      <th>id</th>\n",
              "      <th>name</th>\n",
              "      <th>host_id</th>\n",
              "      <th>host_name</th>\n",
              "      <th>neighbourhood_group</th>\n",
              "      <th>neighbourhood</th>\n",
              "      <th>latitude</th>\n",
              "      <th>longitude</th>\n",
              "      <th>room_type</th>\n",
              "      <th>price</th>\n",
              "      <th>minimum_nights</th>\n",
              "      <th>number_of_reviews</th>\n",
              "      <th>last_review</th>\n",
              "      <th>reviews_per_month</th>\n",
              "      <th>calculated_host_listings_count</th>\n",
              "      <th>availability_365</th>\n",
              "    </tr>\n",
              "  </thead>\n",
              "  <tbody>\n",
              "    <tr>\n",
              "      <th>0</th>\n",
              "      <td>35303</td>\n",
              "      <td>La Casa Gaienmae C Harajuku, Omotesando is nearby</td>\n",
              "      <td>151977</td>\n",
              "      <td>Miyuki</td>\n",
              "      <td>NaN</td>\n",
              "      <td>Shibuya Ku</td>\n",
              "      <td>35.67152</td>\n",
              "      <td>139.71203</td>\n",
              "      <td>Private room</td>\n",
              "      <td>4192</td>\n",
              "      <td>28</td>\n",
              "      <td>18</td>\n",
              "      <td>2018-07-28</td>\n",
              "      <td>0.18</td>\n",
              "      <td>3</td>\n",
              "      <td>89</td>\n",
              "    </tr>\n",
              "    <tr>\n",
              "      <th>1</th>\n",
              "      <td>197677</td>\n",
              "      <td>Oshiage Holiday Apartment</td>\n",
              "      <td>964081</td>\n",
              "      <td>Yoshimi &amp; Marek</td>\n",
              "      <td>NaN</td>\n",
              "      <td>Sumida Ku</td>\n",
              "      <td>35.71721</td>\n",
              "      <td>139.82596</td>\n",
              "      <td>Entire home/apt</td>\n",
              "      <td>10965</td>\n",
              "      <td>3</td>\n",
              "      <td>165</td>\n",
              "      <td>2020-03-04</td>\n",
              "      <td>1.56</td>\n",
              "      <td>1</td>\n",
              "      <td>270</td>\n",
              "    </tr>\n",
              "    <tr>\n",
              "      <th>2</th>\n",
              "      <td>289597</td>\n",
              "      <td>Private apt in central Tokyo #203</td>\n",
              "      <td>341577</td>\n",
              "      <td>Hide&amp;Kei</td>\n",
              "      <td>NaN</td>\n",
              "      <td>Nerima Ku</td>\n",
              "      <td>35.74267</td>\n",
              "      <td>139.65810</td>\n",
              "      <td>Entire home/apt</td>\n",
              "      <td>4192</td>\n",
              "      <td>28</td>\n",
              "      <td>113</td>\n",
              "      <td>2020-02-17</td>\n",
              "      <td>1.17</td>\n",
              "      <td>2</td>\n",
              "      <td>242</td>\n",
              "    </tr>\n",
              "    <tr>\n",
              "      <th>3</th>\n",
              "      <td>370759</td>\n",
              "      <td>Cozy flat #203, local area YET 10 mins to shib...</td>\n",
              "      <td>1573631</td>\n",
              "      <td>Gilles,Mayumi,Taiki</td>\n",
              "      <td>NaN</td>\n",
              "      <td>Setagaya Ku</td>\n",
              "      <td>35.66443</td>\n",
              "      <td>139.65707</td>\n",
              "      <td>Entire home/apt</td>\n",
              "      <td>6987</td>\n",
              "      <td>28</td>\n",
              "      <td>103</td>\n",
              "      <td>2020-04-16</td>\n",
              "      <td>1.37</td>\n",
              "      <td>3</td>\n",
              "      <td>364</td>\n",
              "    </tr>\n",
              "    <tr>\n",
              "      <th>4</th>\n",
              "      <td>700253</td>\n",
              "      <td>Private apt in central Tokyo #201</td>\n",
              "      <td>341577</td>\n",
              "      <td>Hide&amp;Kei</td>\n",
              "      <td>NaN</td>\n",
              "      <td>Nerima Ku</td>\n",
              "      <td>35.74264</td>\n",
              "      <td>139.65832</td>\n",
              "      <td>Entire home/apt</td>\n",
              "      <td>3977</td>\n",
              "      <td>28</td>\n",
              "      <td>104</td>\n",
              "      <td>2020-05-12</td>\n",
              "      <td>1.12</td>\n",
              "      <td>2</td>\n",
              "      <td>353</td>\n",
              "    </tr>\n",
              "  </tbody>\n",
              "</table>\n",
              "</div>"
            ],
            "text/plain": [
              "       id  ... availability_365\n",
              "0   35303  ...               89\n",
              "1  197677  ...              270\n",
              "2  289597  ...              242\n",
              "3  370759  ...              364\n",
              "4  700253  ...              353\n",
              "\n",
              "[5 rows x 16 columns]"
            ]
          },
          "metadata": {
            "tags": []
          },
          "execution_count": 5
        }
      ]
    },
    {
      "cell_type": "markdown",
      "metadata": {
        "id": "yz1urSUGW9iE",
        "colab_type": "text"
      },
      "source": [
        "### **Adjusting the table**"
      ]
    },
    {
      "cell_type": "markdown",
      "metadata": {
        "id": "xAdWopVU_05b",
        "colab_type": "text"
      },
      "source": [
        "An important fact observed in this database was the price. It's using japanese currecy, JPY (Japan Yen), but for easier analysis is necessary to convert to USD (US Dollars).\n",
        "\n",
        "This exchange currecy was on June 18 2020.\n",
        "\n",
        "$$\n",
        "1 (USD) = 106.920 (JPY)\n",
        "$$\n",
        "\n"
      ]
    },
    {
      "cell_type": "code",
      "metadata": {
        "id": "DwIYKb-6olx1",
        "colab_type": "code",
        "colab": {}
      },
      "source": [
        "df_backup = df.copy()\n",
        "df['price'] = df['price'] / 106.92"
      ],
      "execution_count": 6,
      "outputs": []
    },
    {
      "cell_type": "markdown",
      "metadata": {
        "id": "0bQqPtso5fNN",
        "colab_type": "text"
      },
      "source": [
        "Next step is checking in the table for NULL values:"
      ]
    },
    {
      "cell_type": "code",
      "metadata": {
        "id": "plk2FjbCXOqP",
        "colab_type": "code",
        "colab": {
          "base_uri": "https://localhost:8080/",
          "height": 312
        },
        "outputId": "2b9def0e-6659-4e32-f410-8ca16fc34351"
      },
      "source": [
        "df.isnull().sum().sort_values (ascending = False) / df.shape[0] * 100"
      ],
      "execution_count": 7,
      "outputs": [
        {
          "output_type": "execute_result",
          "data": {
            "text/plain": [
              "neighbourhood_group               100.000000\n",
              "reviews_per_month                  17.609434\n",
              "last_review                        17.609434\n",
              "host_name                           0.046639\n",
              "availability_365                    0.000000\n",
              "calculated_host_listings_count      0.000000\n",
              "number_of_reviews                   0.000000\n",
              "minimum_nights                      0.000000\n",
              "price                               0.000000\n",
              "room_type                           0.000000\n",
              "longitude                           0.000000\n",
              "latitude                            0.000000\n",
              "neighbourhood                       0.000000\n",
              "host_id                             0.000000\n",
              "name                                0.000000\n",
              "id                                  0.000000\n",
              "dtype: float64"
            ]
          },
          "metadata": {
            "tags": []
          },
          "execution_count": 7
        }
      ]
    },
    {
      "cell_type": "markdown",
      "metadata": {
        "id": "XLX8s_3H51qp",
        "colab_type": "text"
      },
      "source": [
        "As shown above, the variable *Neighbourhood_column* has all input as Null, so this it will be dropped from the table.\n",
        "\n",
        "Also *review_per_month* and *last_review* and *host_name* have some nulls too, but this won't be deal still.\n"
      ]
    },
    {
      "cell_type": "code",
      "metadata": {
        "id": "vzbOWY8v8ZTC",
        "colab_type": "code",
        "colab": {}
      },
      "source": [
        "df.drop ('neighbourhood_group', axis = 1, inplace = True)"
      ],
      "execution_count": 8,
      "outputs": []
    },
    {
      "cell_type": "markdown",
      "metadata": {
        "id": "jjeVO7W3d_El",
        "colab_type": "text"
      },
      "source": [
        "## **Next step - Analysing RAW DATA**\n"
      ]
    },
    {
      "cell_type": "markdown",
      "metadata": {
        "id": "NEn66fXvv2R8",
        "colab_type": "text"
      },
      "source": [
        "This step is for checking the varaibles and bringing some information."
      ]
    },
    {
      "cell_type": "markdown",
      "metadata": {
        "id": "pGDPveLaRYB2",
        "colab_type": "text"
      },
      "source": [
        "### **Starting analysing the data**"
      ]
    },
    {
      "cell_type": "markdown",
      "metadata": {
        "id": "lMO9ru9KRgSU",
        "colab_type": "text"
      },
      "source": [
        "Using some statistical operations will help to find some insights."
      ]
    },
    {
      "cell_type": "code",
      "metadata": {
        "id": "Y_KmJ0AHRf49",
        "colab_type": "code",
        "colab": {
          "base_uri": "https://localhost:8080/",
          "height": 294
        },
        "outputId": "2c9afdbd-5e74-4c37-ed49-c1457543ebe0"
      },
      "source": [
        "df.describe()"
      ],
      "execution_count": 9,
      "outputs": [
        {
          "output_type": "execute_result",
          "data": {
            "text/html": [
              "<div>\n",
              "<style scoped>\n",
              "    .dataframe tbody tr th:only-of-type {\n",
              "        vertical-align: middle;\n",
              "    }\n",
              "\n",
              "    .dataframe tbody tr th {\n",
              "        vertical-align: top;\n",
              "    }\n",
              "\n",
              "    .dataframe thead th {\n",
              "        text-align: right;\n",
              "    }\n",
              "</style>\n",
              "<table border=\"1\" class=\"dataframe\">\n",
              "  <thead>\n",
              "    <tr style=\"text-align: right;\">\n",
              "      <th></th>\n",
              "      <th>id</th>\n",
              "      <th>host_id</th>\n",
              "      <th>latitude</th>\n",
              "      <th>longitude</th>\n",
              "      <th>price</th>\n",
              "      <th>minimum_nights</th>\n",
              "      <th>number_of_reviews</th>\n",
              "      <th>reviews_per_month</th>\n",
              "      <th>calculated_host_listings_count</th>\n",
              "      <th>availability_365</th>\n",
              "    </tr>\n",
              "  </thead>\n",
              "  <tbody>\n",
              "    <tr>\n",
              "      <th>count</th>\n",
              "      <td>1.500900e+04</td>\n",
              "      <td>1.500900e+04</td>\n",
              "      <td>15009.000000</td>\n",
              "      <td>15009.000000</td>\n",
              "      <td>15009.000000</td>\n",
              "      <td>15009.000000</td>\n",
              "      <td>15009.000000</td>\n",
              "      <td>12366.000000</td>\n",
              "      <td>15009.000000</td>\n",
              "      <td>15009.000000</td>\n",
              "    </tr>\n",
              "    <tr>\n",
              "      <th>mean</th>\n",
              "      <td>3.171782e+07</td>\n",
              "      <td>1.704263e+08</td>\n",
              "      <td>35.694697</td>\n",
              "      <td>139.734775</td>\n",
              "      <td>254.694677</td>\n",
              "      <td>3.418149</td>\n",
              "      <td>26.529482</td>\n",
              "      <td>1.565028</td>\n",
              "      <td>13.563262</td>\n",
              "      <td>151.573789</td>\n",
              "    </tr>\n",
              "    <tr>\n",
              "      <th>std</th>\n",
              "      <td>9.436473e+06</td>\n",
              "      <td>1.005129e+08</td>\n",
              "      <td>0.143989</td>\n",
              "      <td>0.081667</td>\n",
              "      <td>736.921972</td>\n",
              "      <td>9.251353</td>\n",
              "      <td>40.767312</td>\n",
              "      <td>1.297347</td>\n",
              "      <td>16.145016</td>\n",
              "      <td>119.080421</td>\n",
              "    </tr>\n",
              "    <tr>\n",
              "      <th>min</th>\n",
              "      <td>3.530300e+04</td>\n",
              "      <td>1.519770e+05</td>\n",
              "      <td>27.072330</td>\n",
              "      <td>139.123190</td>\n",
              "      <td>0.000000</td>\n",
              "      <td>1.000000</td>\n",
              "      <td>0.000000</td>\n",
              "      <td>0.020000</td>\n",
              "      <td>1.000000</td>\n",
              "      <td>0.000000</td>\n",
              "    </tr>\n",
              "    <tr>\n",
              "      <th>25%</th>\n",
              "      <td>2.651004e+07</td>\n",
              "      <td>7.061679e+07</td>\n",
              "      <td>35.685800</td>\n",
              "      <td>139.699340</td>\n",
              "      <td>65.347924</td>\n",
              "      <td>1.000000</td>\n",
              "      <td>2.000000</td>\n",
              "      <td>0.600000</td>\n",
              "      <td>3.000000</td>\n",
              "      <td>55.000000</td>\n",
              "    </tr>\n",
              "    <tr>\n",
              "      <th>50%</th>\n",
              "      <td>3.344028e+07</td>\n",
              "      <td>1.857782e+08</td>\n",
              "      <td>35.702810</td>\n",
              "      <td>139.728020</td>\n",
              "      <td>111.597456</td>\n",
              "      <td>1.000000</td>\n",
              "      <td>11.000000</td>\n",
              "      <td>1.360000</td>\n",
              "      <td>8.000000</td>\n",
              "      <td>145.000000</td>\n",
              "    </tr>\n",
              "    <tr>\n",
              "      <th>75%</th>\n",
              "      <td>3.967955e+07</td>\n",
              "      <td>2.529105e+08</td>\n",
              "      <td>35.724600</td>\n",
              "      <td>139.784810</td>\n",
              "      <td>187.008979</td>\n",
              "      <td>2.000000</td>\n",
              "      <td>34.000000</td>\n",
              "      <td>2.240000</td>\n",
              "      <td>18.000000</td>\n",
              "      <td>246.000000</td>\n",
              "    </tr>\n",
              "    <tr>\n",
              "      <th>max</th>\n",
              "      <td>4.357856e+07</td>\n",
              "      <td>3.469412e+08</td>\n",
              "      <td>35.832430</td>\n",
              "      <td>142.202880</td>\n",
              "      <td>9971.324355</td>\n",
              "      <td>365.000000</td>\n",
              "      <td>529.000000</td>\n",
              "      <td>40.080000</td>\n",
              "      <td>95.000000</td>\n",
              "      <td>365.000000</td>\n",
              "    </tr>\n",
              "  </tbody>\n",
              "</table>\n",
              "</div>"
            ],
            "text/plain": [
              "                 id  ...  availability_365\n",
              "count  1.500900e+04  ...      15009.000000\n",
              "mean   3.171782e+07  ...        151.573789\n",
              "std    9.436473e+06  ...        119.080421\n",
              "min    3.530300e+04  ...          0.000000\n",
              "25%    2.651004e+07  ...         55.000000\n",
              "50%    3.344028e+07  ...        145.000000\n",
              "75%    3.967955e+07  ...        246.000000\n",
              "max    4.357856e+07  ...        365.000000\n",
              "\n",
              "[8 rows x 10 columns]"
            ]
          },
          "metadata": {
            "tags": []
          },
          "execution_count": 9
        }
      ]
    },
    {
      "cell_type": "markdown",
      "metadata": {
        "id": "N_Kx8UvJqy39",
        "colab_type": "text"
      },
      "source": [
        "In a first impression, some variables is showing a strange behaviour: \n",
        "\n",
        "* *price* - the maximun value is a way higher than the mean, almost four times. Also 75% of the data is too lower than the maximun. So maybe therer are few places having a exborting values compared to others and interfering in the analysis.\n",
        "\n",
        "* *minimun_nights* - this variable has a problema similar from the *price*. A issue is rent a place for a minimum night like a year, it's is very strange since the Aribnb is used more to rent for a few days like a weekend.\n",
        "\n",
        "* *latitude* - there is a difference about 8º lat in the minimum value and the mean. This difference is almost 850km in real world, this is almost de distance from Tokyo (Japan) to Hiroshima (Japan).\n",
        "\n",
        "* *longitude* - there is a difference about 3º long, it can be almost 300km extension.\n",
        "\n",
        "* *reviews_per_month* - there an maximun value of 40.08, but if this place is rent all days in the year it should be close to 30, even if all user write a review.\n",
        "\n",
        "These points with strange values are called outliers. It can be some exceptions or even a error."
      ]
    },
    {
      "cell_type": "markdown",
      "metadata": {
        "id": "sN7PP33Myuu6",
        "colab_type": "text"
      },
      "source": [
        "### **Deeper analysis on each variable listed above**"
      ]
    },
    {
      "cell_type": "markdown",
      "metadata": {
        "id": "NgUdh-COPJu7",
        "colab_type": "text"
      },
      "source": [
        "Let's start visualize the data distribution with histograms."
      ]
    },
    {
      "cell_type": "code",
      "metadata": {
        "id": "q2wWSfeRbmBo",
        "colab_type": "code",
        "colab": {
          "base_uri": "https://localhost:8080/",
          "height": 606
        },
        "outputId": "db623317-7b04-435b-fb3c-74787dbf8e0f"
      },
      "source": [
        "df.hist (bins = 15, figsize = (15,10));"
      ],
      "execution_count": 10,
      "outputs": [
        {
          "output_type": "display_data",
          "data": {
            "image/png": "[encoded data removed]",
            "text/plain": [
              "<Figure size 1080x720 with 12 Axes>"
            ]
          },
          "metadata": {
            "tags": [],
            "needs_background": "light"
          }
        }
      ]
    },
    {
      "cell_type": "markdown",
      "metadata": {
        "id": "L_x-25BXRrTS",
        "colab_type": "text"
      },
      "source": [
        "As said before, some variale are showing some inconsistence. \n",
        "* A large concetration of number below USD 1000,00, almost zero above this limit.\n",
        "* *minimum_nights* - high concetration below 5 days. Above this day apperaring to be almost zero.\n",
        "* *latitude* - a concentration of coordinates in 35º lat, but it shows a few below at 28º lat."
      ]
    },
    {
      "cell_type": "markdown",
      "metadata": {
        "id": "tU7B-Kp5iDOv",
        "colab_type": "text"
      },
      "source": [
        "#### **Let's begin with *PRICE***\n"
      ]
    },
    {
      "cell_type": "markdown",
      "metadata": {
        "id": "eMjHfkzr48xa",
        "colab_type": "text"
      },
      "source": [
        "Let's visualize these outliers, with a graffic called Boxplot.\n"
      ]
    },
    {
      "cell_type": "code",
      "metadata": {
        "id": "rAMKClMf8JAE",
        "colab_type": "code",
        "colab": {
          "base_uri": "https://localhost:8080/",
          "height": 262
        },
        "outputId": "8b47a3a9-08f5-48ed-f70f-414ed385ad31"
      },
      "source": [
        "df.price.plot (kind = 'box', vert = False, figsize = (15,3))\n",
        "plt.show()\n",
        "\n",
        "print (\"price: value over than 270:\")\n",
        "print (\"{} entradas\".format(len(df[df.price > 270])))\n",
        "print (\"{:4%}\".format((len(df[df.price > 270])/df.shape[0])))"
      ],
      "execution_count": 11,
      "outputs": [
        {
          "output_type": "display_data",
          "data": {
            "image/png": "[encoded data removed]",
            "text/plain": [
              "<Figure size 1080x216 with 1 Axes>"
            ]
          },
          "metadata": {
            "tags": [],
            "needs_background": "light"
          }
        },
        {
          "output_type": "stream",
          "text": [
            "price: value over than 270:\n",
            "2692 entradas\n",
            "17.935905%\n"
          ],
          "name": "stdout"
        }
      ]
    },
    {
      "cell_type": "markdown",
      "metadata": {
        "id": "53yNG7tek2nm",
        "colab_type": "text"
      },
      "source": [
        "The dots are the outliers. They are going to be removed from the table to get easier the analyses."
      ]
    },
    {
      "cell_type": "code",
      "metadata": {
        "id": "ZX4M1De89Zrm",
        "colab_type": "code",
        "colab": {
          "base_uri": "https://localhost:8080/",
          "height": 210
        },
        "outputId": "81705bfc-7a49-4368-a1f8-362ba6bde569"
      },
      "source": [
        "df_price = df.copy()\n",
        "\n",
        "df_price.drop (df_price[df_price.price > 270].index, axis = 0, inplace = True)\n",
        "\n",
        "df_price.price.plot (kind = 'box', vert = False, figsize = (15,3))\n",
        "plt.show()\n",
        "\n",
        "df_v2 = df_price.copy()"
      ],
      "execution_count": 12,
      "outputs": [
        {
          "output_type": "display_data",
          "data": {
            "image/png": "[encoded data removed]",
            "text/plain": [
              "<Figure size 1080x216 with 1 Axes>"
            ]
          },
          "metadata": {
            "tags": [],
            "needs_background": "light"
          }
        }
      ]
    },
    {
      "cell_type": "markdown",
      "metadata": {
        "id": "bzeVJ6Oflkhu",
        "colab_type": "text"
      },
      "source": [
        "Using *USD 270,00*, get easier to see that most place to rent is  between 50,00 USD to 150,00 USD."
      ]
    },
    {
      "cell_type": "code",
      "metadata": {
        "id": "drYxfaRxB-89",
        "colab_type": "code",
        "colab": {
          "base_uri": "https://localhost:8080/",
          "height": 592
        },
        "outputId": "0ba420da-c389-4fc5-e8b0-d8cb00b3b2a1"
      },
      "source": [
        "df_price.price.hist (bins = 15, figsize = (15,10));"
      ],
      "execution_count": 13,
      "outputs": [
        {
          "output_type": "display_data",
          "data": {
            "image/png": "[encoded data removed]",
            "text/plain": [
              "<Figure size 1080x720 with 1 Axes>"
            ]
          },
          "metadata": {
            "tags": [],
            "needs_background": "light"
          }
        }
      ]
    },
    {
      "cell_type": "markdown",
      "metadata": {
        "id": "TaGBYvlUAhLW",
        "colab_type": "text"
      },
      "source": [
        "Using histograms again to price, the main value is almost simliar from the boxplot."
      ]
    },
    {
      "cell_type": "code",
      "metadata": {
        "id": "zOAPDKNGCCZu",
        "colab_type": "code",
        "colab": {
          "base_uri": "https://localhost:8080/",
          "height": 294
        },
        "outputId": "759a9e88-18ba-43ae-b235-a88610a7b26f"
      },
      "source": [
        "df_price [['price']].describe()"
      ],
      "execution_count": 14,
      "outputs": [
        {
          "output_type": "execute_result",
          "data": {
            "text/html": [
              "<div>\n",
              "<style scoped>\n",
              "    .dataframe tbody tr th:only-of-type {\n",
              "        vertical-align: middle;\n",
              "    }\n",
              "\n",
              "    .dataframe tbody tr th {\n",
              "        vertical-align: top;\n",
              "    }\n",
              "\n",
              "    .dataframe thead th {\n",
              "        text-align: right;\n",
              "    }\n",
              "</style>\n",
              "<table border=\"1\" class=\"dataframe\">\n",
              "  <thead>\n",
              "    <tr style=\"text-align: right;\">\n",
              "      <th></th>\n",
              "      <th>price</th>\n",
              "    </tr>\n",
              "  </thead>\n",
              "  <tbody>\n",
              "    <tr>\n",
              "      <th>count</th>\n",
              "      <td>12317.000000</td>\n",
              "    </tr>\n",
              "    <tr>\n",
              "      <th>mean</th>\n",
              "      <td>101.491324</td>\n",
              "    </tr>\n",
              "    <tr>\n",
              "      <th>std</th>\n",
              "      <td>58.386721</td>\n",
              "    </tr>\n",
              "    <tr>\n",
              "      <th>min</th>\n",
              "      <td>0.000000</td>\n",
              "    </tr>\n",
              "    <tr>\n",
              "      <th>25%</th>\n",
              "      <td>56.303779</td>\n",
              "    </tr>\n",
              "    <tr>\n",
              "      <th>50%</th>\n",
              "      <td>93.499813</td>\n",
              "    </tr>\n",
              "    <tr>\n",
              "      <th>75%</th>\n",
              "      <td>140.759446</td>\n",
              "    </tr>\n",
              "    <tr>\n",
              "      <th>max</th>\n",
              "      <td>269.453797</td>\n",
              "    </tr>\n",
              "  </tbody>\n",
              "</table>\n",
              "</div>"
            ],
            "text/plain": [
              "              price\n",
              "count  12317.000000\n",
              "mean     101.491324\n",
              "std       58.386721\n",
              "min        0.000000\n",
              "25%       56.303779\n",
              "50%       93.499813\n",
              "75%      140.759446\n",
              "max      269.453797"
            ]
          },
          "metadata": {
            "tags": []
          },
          "execution_count": 14
        }
      ]
    },
    {
      "cell_type": "markdown",
      "metadata": {
        "id": "PyuQp4bPg1X-",
        "colab_type": "text"
      },
      "source": [
        "After the removing the ouliers, the statistical values make more sense. Price have a high concetration between USD 50,00 to USC 150,00. "
      ]
    },
    {
      "cell_type": "markdown",
      "metadata": {
        "id": "_UubE_S6hcja",
        "colab_type": "text"
      },
      "source": [
        "#### **Second variable is *minimum_nights***"
      ]
    },
    {
      "cell_type": "markdown",
      "metadata": {
        "id": "rmNUGfh9hjYg",
        "colab_type": "text"
      },
      "source": [
        "Again starting with a boxplot:"
      ]
    },
    {
      "cell_type": "code",
      "metadata": {
        "id": "xlRHjnp5hmaa",
        "colab_type": "code",
        "colab": {
          "base_uri": "https://localhost:8080/",
          "height": 262
        },
        "outputId": "0473a533-fda3-400b-c003-d546ead2a702"
      },
      "source": [
        "df_nights = df.copy()\n",
        "df_nights.minimum_nights.plot (kind = 'box', vert = False, figsize = (15,3))\n",
        "plt.show()\n",
        "\n",
        "print (\"Value below than 7:\")\n",
        "print (\"{} entradas\".format(len(df_nights[df_nights.minimum_nights > 4])))\n",
        "print (\"{:4%}\".format((len(df_nights[df_nights.minimum_nights > 4])/df_nights.shape[0])))"
      ],
      "execution_count": 15,
      "outputs": [
        {
          "output_type": "display_data",
          "data": {
            "image/png": "[encoded data removed]",
            "text/plain": [
              "<Figure size 1080x216 with 1 Axes>"
            ]
          },
          "metadata": {
            "tags": [],
            "needs_background": "light"
          }
        },
        {
          "output_type": "stream",
          "text": [
            "Value below than 7:\n",
            "1364 entradas\n",
            "9.087881%\n"
          ],
          "name": "stdout"
        }
      ]
    },
    {
      "cell_type": "markdown",
      "metadata": {
        "id": "1TlUAzEtiHt3",
        "colab_type": "text"
      },
      "source": [
        "Again the ouliers is show above, there isn't so many, less than 10% when value is above 4 days."
      ]
    },
    {
      "cell_type": "code",
      "metadata": {
        "id": "hSB0UZBqil1q",
        "colab_type": "code",
        "colab": {
          "base_uri": "https://localhost:8080/",
          "height": 210
        },
        "outputId": "411012c7-cff5-4023-e19e-827bcefdee66"
      },
      "source": [
        "df_nights.drop (df_nights[df_nights.minimum_nights > 4].index, axis = 0, inplace = True)\n",
        "df_v2.drop (df_nights[df_nights.minimum_nights > 4].index, axis = 0, inplace = True)\n",
        "df_nights.minimum_nights.plot (kind = 'box', vert = False, figsize = (15,3))\n",
        "plt.show()"
      ],
      "execution_count": 16,
      "outputs": [
        {
          "output_type": "display_data",
          "data": {
            "image/png": "[encoded data removed]",
            "text/plain": [
              "<Figure size 1080x216 with 1 Axes>"
            ]
          },
          "metadata": {
            "tags": [],
            "needs_background": "light"
          }
        }
      ]
    },
    {
      "cell_type": "code",
      "metadata": {
        "id": "rG1GP4-DoV9b",
        "colab_type": "code",
        "colab": {
          "base_uri": "https://localhost:8080/",
          "height": 592
        },
        "outputId": "fac1e28f-4260-422a-8816-f2fffab78c0c"
      },
      "source": [
        "df_nights.minimum_nights.hist(bins=15, figsize = (15,10));"
      ],
      "execution_count": 17,
      "outputs": [
        {
          "output_type": "display_data",
          "data": {
            "image/png": "[encoded data removed]",
            "text/plain": [
              "<Figure size 1080x720 with 1 Axes>"
            ]
          },
          "metadata": {
            "tags": [],
            "needs_background": "light"
          }
        }
      ]
    },
    {
      "cell_type": "markdown",
      "metadata": {
        "id": "MeUzdbjgnwTC",
        "colab_type": "text"
      },
      "source": [
        "The boxplot without many outliers.\n",
        "\n"
      ]
    },
    {
      "cell_type": "code",
      "metadata": {
        "id": "h8DUNVYpRXHR",
        "colab_type": "code",
        "colab": {
          "base_uri": "https://localhost:8080/",
          "height": 294
        },
        "outputId": "d7fba4a9-2476-4fbc-c119-6ea4091636c7"
      },
      "source": [
        "df_nights [['minimum_nights']].describe()"
      ],
      "execution_count": 18,
      "outputs": [
        {
          "output_type": "execute_result",
          "data": {
            "text/html": [
              "<div>\n",
              "<style scoped>\n",
              "    .dataframe tbody tr th:only-of-type {\n",
              "        vertical-align: middle;\n",
              "    }\n",
              "\n",
              "    .dataframe tbody tr th {\n",
              "        vertical-align: top;\n",
              "    }\n",
              "\n",
              "    .dataframe thead th {\n",
              "        text-align: right;\n",
              "    }\n",
              "</style>\n",
              "<table border=\"1\" class=\"dataframe\">\n",
              "  <thead>\n",
              "    <tr style=\"text-align: right;\">\n",
              "      <th></th>\n",
              "      <th>minimum_nights</th>\n",
              "    </tr>\n",
              "  </thead>\n",
              "  <tbody>\n",
              "    <tr>\n",
              "      <th>count</th>\n",
              "      <td>13645.000000</td>\n",
              "    </tr>\n",
              "    <tr>\n",
              "      <th>mean</th>\n",
              "      <td>1.421107</td>\n",
              "    </tr>\n",
              "    <tr>\n",
              "      <th>std</th>\n",
              "      <td>0.643070</td>\n",
              "    </tr>\n",
              "    <tr>\n",
              "      <th>min</th>\n",
              "      <td>1.000000</td>\n",
              "    </tr>\n",
              "    <tr>\n",
              "      <th>25%</th>\n",
              "      <td>1.000000</td>\n",
              "    </tr>\n",
              "    <tr>\n",
              "      <th>50%</th>\n",
              "      <td>1.000000</td>\n",
              "    </tr>\n",
              "    <tr>\n",
              "      <th>75%</th>\n",
              "      <td>2.000000</td>\n",
              "    </tr>\n",
              "    <tr>\n",
              "      <th>max</th>\n",
              "      <td>4.000000</td>\n",
              "    </tr>\n",
              "  </tbody>\n",
              "</table>\n",
              "</div>"
            ],
            "text/plain": [
              "       minimum_nights\n",
              "count    13645.000000\n",
              "mean         1.421107\n",
              "std          0.643070\n",
              "min          1.000000\n",
              "25%          1.000000\n",
              "50%          1.000000\n",
              "75%          2.000000\n",
              "max          4.000000"
            ]
          },
          "metadata": {
            "tags": []
          },
          "execution_count": 18
        }
      ]
    },
    {
      "cell_type": "markdown",
      "metadata": {
        "id": "qJeILGZEjQIo",
        "colab_type": "text"
      },
      "source": [
        "Os dados mostram que a maior parte do hosts oferecem pelo menos um dia. Isso pode acompanhar mais o tipo de cidade que é ofercer mais para trabalhadores que estão de viagem. Tokyo é uma cidade empresarial e sede de algumas empresas, é uma cidade que recebe trabalahdores por isso.\n",
        "\n",
        "So the data show that, many hosts prefere to offer at least 1 night. It can be little odd sometimes, because normally the host may prefere 2 night instead, to ensure the visitant stay a while weekend, beacuse if they stay 1 day, may be difficult to rent the other day.\n",
        "\n",
        "However, it can be beacuse Tokyo is majority a city business ciy, so majority of the visitors are workers, who is in the town to a reunion or just passing by. \n",
        "\n",
        "Since a years ago, that tourism in Tokyo is inscreaing. In 2010 is stimated 8.611.175 visitor overseas visits japan but in 2019 the number increased to 31.882.049 visitors. (Data from [JBT Tourism Reaserach & Consulting Co](https://www.tourism.jp/en/tourism-database/stats/inbound/)).\n"
      ]
    },
    {
      "cell_type": "markdown",
      "metadata": {
        "id": "HOzftLz6kLZo",
        "colab_type": "text"
      },
      "source": [
        "#### **Coordinates - Latitude & Longitude**"
      ]
    },
    {
      "cell_type": "markdown",
      "metadata": {
        "id": "kyUCLFCUntu6",
        "colab_type": "text"
      },
      "source": [
        "Search for outliers in coordinates, a few difference in this variable make a huge change in position in the world. \n",
        "\n",
        "Using the coordinates to plot a scatter map, will help to see how spread the points are."
      ]
    },
    {
      "cell_type": "code",
      "metadata": {
        "id": "_cxZMsqRlEI6",
        "colab_type": "code",
        "colab": {
          "base_uri": "https://localhost:8080/",
          "height": 472
        },
        "outputId": "027fc9a6-857a-43ea-ae53-86e0cf661eef"
      },
      "source": [
        "df.plot (\n",
        "    kind='scatter', \n",
        "    x = 'longitude', \n",
        "    y = 'latitude', \n",
        "    alpha = 0.4,\n",
        "    c = df['price'],\n",
        "    s = 8,\n",
        "    cmap = plt.get_cmap ('jet'),\n",
        "    figsize = (12, 8)\n",
        "    );"
      ],
      "execution_count": 19,
      "outputs": [
        {
          "output_type": "display_data",
          "data": {
            "image/png": "[encoded data removed]",
            "text/plain": [
              "<Figure size 864x576 with 2 Axes>"
            ]
          },
          "metadata": {
            "tags": [],
            "needs_background": "light"
          }
        }
      ]
    },
    {
      "cell_type": "markdown",
      "metadata": {
        "id": "MmHY8n4grmPP",
        "colab_type": "text"
      },
      "source": [
        "There some point very far from the concetration, so choosing lat 35 as a limit and long 140 to remove the points far away."
      ]
    },
    {
      "cell_type": "code",
      "metadata": {
        "id": "YgQ6-sUqkjOa",
        "colab_type": "code",
        "colab": {
          "base_uri": "https://localhost:8080/",
          "height": 262
        },
        "outputId": "d1b129af-bbe9-4d4c-dcc1-41b87138e4de"
      },
      "source": [
        "df.latitude.plot (kind = 'box', vert = False, figsize = (15,3))\n",
        "plt.show()\n",
        "\n",
        "print (\"latitude: value under than 35:\")\n",
        "print (\"{} entradas\".format(len(df[df.latitude < 35])))\n",
        "print (\"{:4%}\".format((len(df[df.latitude < 35])/df.shape[0])))"
      ],
      "execution_count": 20,
      "outputs": [
        {
          "output_type": "display_data",
          "data": {
            "image/png": "[encoded data removed]",
            "text/plain": [
              "<Figure size 1080x216 with 1 Axes>"
            ]
          },
          "metadata": {
            "tags": [],
            "needs_background": "light"
          }
        },
        {
          "output_type": "stream",
          "text": [
            "latitude: value under than 35:\n",
            "29 entradas\n",
            "0.193217%\n"
          ],
          "name": "stdout"
        }
      ]
    },
    {
      "cell_type": "code",
      "metadata": {
        "id": "NWXEp55tlZ8_",
        "colab_type": "code",
        "colab": {
          "base_uri": "https://localhost:8080/",
          "height": 262
        },
        "outputId": "c4a8f95b-af09-484f-e2c2-01b3957917c0"
      },
      "source": [
        "df.longitude.plot (kind = 'box', vert = False, figsize = (15,3))\n",
        "plt.show()\n",
        "\n",
        "print (\"longitude: value over than 140:\")\n",
        "print (\"{} entradas\".format(len(df[df.longitude > 140])))\n",
        "print (\"{:4%}\".format((len(df[df.longitude > 140])/df.shape[0])))"
      ],
      "execution_count": 21,
      "outputs": [
        {
          "output_type": "display_data",
          "data": {
            "image/png": "[encoded data removed]",
            "text/plain": [
              "<Figure size 1080x216 with 1 Axes>"
            ]
          },
          "metadata": {
            "tags": [],
            "needs_background": "light"
          }
        },
        {
          "output_type": "stream",
          "text": [
            "longitude: value over than 140:\n",
            "3 entradas\n",
            "0.019988%\n"
          ],
          "name": "stdout"
        }
      ]
    },
    {
      "cell_type": "markdown",
      "metadata": {
        "id": "j7AEnqQMoKAa",
        "colab_type": "text"
      },
      "source": [
        "So, as the boxplots above, ther a few value the a commom range. To how there affect, let plot with python."
      ]
    },
    {
      "cell_type": "code",
      "metadata": {
        "id": "lEeY0Whell72",
        "colab_type": "code",
        "colab": {
          "base_uri": "https://localhost:8080/",
          "height": 210
        },
        "outputId": "2cf1387b-c3ea-45fd-8432-2a57fde61a17"
      },
      "source": [
        "df_coord = df.copy()\n",
        "\n",
        "df_coord.drop (df_coord[df_coord.latitude < 35.5].index, axis = 0, inplace = True)\n",
        "\n",
        "df_v2.drop (df_v2[df_v2.latitude < 35.5].index, axis = 0, inplace = True)\n",
        "\n",
        "df_coord.latitude.plot (kind = 'box', vert = False, figsize = (15,3))\n",
        "plt.show()"
      ],
      "execution_count": 22,
      "outputs": [
        {
          "output_type": "display_data",
          "data": {
            "image/png": "[encoded data removed]",
            "text/plain": [
              "<Figure size 1080x216 with 1 Axes>"
            ]
          },
          "metadata": {
            "tags": [],
            "needs_background": "light"
          }
        }
      ]
    },
    {
      "cell_type": "code",
      "metadata": {
        "id": "57hO85nSl5R9",
        "colab_type": "code",
        "colab": {
          "base_uri": "https://localhost:8080/",
          "height": 210
        },
        "outputId": "4c6cff71-4f82-4009-ae3a-fed6af5fced1"
      },
      "source": [
        "df_coord.drop (df_coord[df_coord.longitude > 140].index, axis = 0, inplace = True)\n",
        "\n",
        "df_v2.drop (df_v2[df_v2.longitude > 140].index, axis = 0, inplace = True)\n",
        "\n",
        "df_coord.longitude.plot (kind = 'box', vert = False, figsize = (15,3))\n",
        "plt.show()"
      ],
      "execution_count": 23,
      "outputs": [
        {
          "output_type": "display_data",
          "data": {
            "image/png": "[encoded data removed]",
            "text/plain": [
              "<Figure size 1080x216 with 1 Axes>"
            ]
          },
          "metadata": {
            "tags": [],
            "needs_background": "light"
          }
        }
      ]
    },
    {
      "cell_type": "code",
      "metadata": {
        "id": "wDDHVllCmCO3",
        "colab_type": "code",
        "colab": {
          "base_uri": "https://localhost:8080/",
          "height": 472
        },
        "outputId": "236009ac-c3b9-4713-a737-212799f0ff2a"
      },
      "source": [
        "df_v2.plot (\n",
        "    kind='scatter', \n",
        "    x = 'longitude', \n",
        "    y = 'latitude', \n",
        "    alpha = 0.4,\n",
        "    c = df_v2['price'],\n",
        "    s = 8,\n",
        "    cmap = plt.get_cmap ('jet'),\n",
        "    figsize = (12, 8)\n",
        "    );"
      ],
      "execution_count": 24,
      "outputs": [
        {
          "output_type": "display_data",
          "data": {
            "image/png": "[encoded data removed]",
            "text/plain": [
              "<Figure size 864x576 with 2 Axes>"
            ]
          },
          "metadata": {
            "tags": [],
            "needs_background": "light"
          }
        }
      ]
    },
    {
      "cell_type": "markdown",
      "metadata": {
        "id": "g0u1gFivsIqh",
        "colab_type": "text"
      },
      "source": [
        "After removing those points, we scatter is similiar to Tokyo city."
      ]
    },
    {
      "cell_type": "markdown",
      "metadata": {
        "id": "MNe6Dw-5g4f_",
        "colab_type": "text"
      },
      "source": [
        "To complete this section, find thorugh a deep search in the database the outliers points."
      ]
    },
    {
      "cell_type": "code",
      "metadata": {
        "id": "JlNPqmj4dtjE",
        "colab_type": "code",
        "colab": {
          "base_uri": "https://localhost:8080/",
          "height": 52
        },
        "outputId": "6e6373c9-503b-4d73-a4e8-dc0a4f23b3c6"
      },
      "source": [
        "long = df[df['longitude'] > 140].neighbourhood.value_counts()\n",
        "print (long)"
      ],
      "execution_count": 25,
      "outputs": [
        {
          "output_type": "stream",
          "text": [
            "Ogasawara Mura    3\n",
            "Name: neighbourhood, dtype: int64\n"
          ],
          "name": "stdout"
        }
      ]
    },
    {
      "cell_type": "code",
      "metadata": {
        "id": "PhuGGX4psVgQ",
        "colab_type": "code",
        "colab": {
          "base_uri": "https://localhost:8080/",
          "height": 121
        },
        "outputId": "c0573820-aa8f-42a5-f99f-fd928958f6a1"
      },
      "source": [
        "lat = df[df['latitude'] < 35.5].neighbourhood.value_counts()\n",
        "print (lat)"
      ],
      "execution_count": 26,
      "outputs": [
        {
          "output_type": "stream",
          "text": [
            "Oshima Machi      15\n",
            "Hachijo Machi      6\n",
            "Ogasawara Mura     3\n",
            "Niijima Mura       3\n",
            "Miyake Mura        2\n",
            "Name: neighbourhood, dtype: int64\n"
          ],
          "name": "stdout"
        }
      ]
    },
    {
      "cell_type": "code",
      "metadata": {
        "id": "h8YhG5XtWiyw",
        "colab_type": "code",
        "colab": {
          "base_uri": "https://localhost:8080/",
          "height": 138
        },
        "outputId": "a80e2f4b-67bd-4981-89c6-dc24d6bc8ed6"
      },
      "source": [
        "df.drop (df[df.latitude > 35.5].index, axis = 0, inplace = True)\n",
        "df.groupby(\"neighbourhood\")['price'].mean()"
      ],
      "execution_count": 27,
      "outputs": [
        {
          "output_type": "execute_result",
          "data": {
            "text/plain": [
              "neighbourhood\n",
              "Hachijo Machi      93.669722\n",
              "Miyake Mura       140.254396\n",
              "Niijima Mura       93.499813\n",
              "Ogasawara Mura     72.053872\n",
              "Oshima Machi       77.952363\n",
              "Name: price, dtype: float64"
            ]
          },
          "metadata": {
            "tags": []
          },
          "execution_count": 27
        }
      ]
    },
    {
      "cell_type": "markdown",
      "metadata": {
        "id": "OuqadUv-vUqw",
        "colab_type": "text"
      },
      "source": [
        "After searching through the internet, Tokyo has some islands. Different from the capital, theses places are an escape from the citie to a more natural place.\n",
        "\n",
        "* Oshima - approximattaly 100km from the capital. A famous spot is there a active vulcan.\n",
        "* To-shima - about 150 km from the capital. A island with crystal water to see scuba diving and see the fauna.\n",
        "* Niijima - approx 163 km. Beatifual beache with white sand. A small island with big wave, ideal for surfers\n",
        "* Kouzushima - 190 km. in ceter of the island, Mt. Tenjo has 574m tall, people goes for a hike. Akasaki Promenade, a tturistic point to near a bay, to diving and surfers.\n",
        "* Miyake - 190 km. A island once had sulfuric gases flown through the earth, because some old eruptions. As consireder safe in 2005, but gas mask is a must carry. With all of this fauna or flora survived and a place a unique bird pygmy woodpeckers. given the nickname as Bird Island, for bird-watchers.\n",
        "* Mikurajima - distance about 200m. Whole island is a natianl park. There is a small tourism, but small places is prohibited because of protection to the wildlife.\n",
        "* Hachijo - approximatily 290 km from Tokyo. Another island with natural wonder, beaches, diving sptos, a mount with *onsen* on the slope (hot springs). many kinds of animals\n",
        "* Aogashima - almost 370 km. A very inacessible island, the geogical structure, made only easy access through a local service. appro 160 habitants this place is very to escape from the city. This is aplace ideal for starazing\n",
        "* Ogasawara - distance about 1000 km from Tokyo. This is an archipelago with two main island (Hahajima and Chichijima). With a unique flora and fauna most untouched. A place to relaxe and rousirm with nature, swimming, hiking, diving.\n",
        "\n",
        "<center><img alt=\"edge\" width=\"20%\" src=\"https://github.com/bertokawa/dsnp_1_airbnb_tokyo/blob/images/images/hayato-shin-zcKuJ3YJFmw-unsplash.jpg?raw=true\"></center>\n",
        "<center><span>Photo by <a href=\"https://unsplash.com/@hytshin?utm_source=unsplash&amp;utm_medium=referral&amp;utm_content=creditCopyText\">Hayato Shin</a> on <a href=\"/s/photos/tokyo-islands?utm_source=unsplash&amp;utm_medium=referral&amp;utm_content=creditCopyText\">Unsplash</a></span></center>\n"
      ]
    },
    {
      "cell_type": "markdown",
      "metadata": {
        "id": "IXn2oIo5qx-w",
        "colab_type": "text"
      },
      "source": [
        "### **Correlation**"
      ]
    },
    {
      "cell_type": "markdown",
      "metadata": {
        "id": "_hm53WlmqFv_",
        "colab_type": "text"
      },
      "source": [
        "Next step is the *Correlation*, this means if there are dependencies between them and how each of them is related. In Seaborn package is possible to visualize the correlation."
      ]
    },
    {
      "cell_type": "code",
      "metadata": {
        "id": "x2ayzBajqxyd",
        "colab_type": "code",
        "colab": {
          "base_uri": "https://localhost:8080/",
          "height": 294
        },
        "outputId": "bf5e4027-af48-4d81-bedc-bc288400b470"
      },
      "source": [
        "corr = df_v2 [[\n",
        "              'price',\n",
        "              'minimum_nights',\n",
        "              'number_of_reviews',\n",
        "              'reviews_per_month',\n",
        "              'latitude',\n",
        "              'longitude',\n",
        "              'calculated_host_listings_count',\n",
        "              'availability_365'\n",
        "              ]\n",
        "].corr()\n",
        "\n",
        "display (corr)"
      ],
      "execution_count": 28,
      "outputs": [
        {
          "output_type": "display_data",
          "data": {
            "text/html": [
              "<div>\n",
              "<style scoped>\n",
              "    .dataframe tbody tr th:only-of-type {\n",
              "        vertical-align: middle;\n",
              "    }\n",
              "\n",
              "    .dataframe tbody tr th {\n",
              "        vertical-align: top;\n",
              "    }\n",
              "\n",
              "    .dataframe thead th {\n",
              "        text-align: right;\n",
              "    }\n",
              "</style>\n",
              "<table border=\"1\" class=\"dataframe\">\n",
              "  <thead>\n",
              "    <tr style=\"text-align: right;\">\n",
              "      <th></th>\n",
              "      <th>price</th>\n",
              "      <th>minimum_nights</th>\n",
              "      <th>number_of_reviews</th>\n",
              "      <th>reviews_per_month</th>\n",
              "      <th>latitude</th>\n",
              "      <th>longitude</th>\n",
              "      <th>calculated_host_listings_count</th>\n",
              "      <th>availability_365</th>\n",
              "    </tr>\n",
              "  </thead>\n",
              "  <tbody>\n",
              "    <tr>\n",
              "      <th>price</th>\n",
              "      <td>1.000000</td>\n",
              "      <td>-0.078388</td>\n",
              "      <td>-0.024652</td>\n",
              "      <td>0.070761</td>\n",
              "      <td>-0.092424</td>\n",
              "      <td>0.063150</td>\n",
              "      <td>-0.126827</td>\n",
              "      <td>0.026504</td>\n",
              "    </tr>\n",
              "    <tr>\n",
              "      <th>minimum_nights</th>\n",
              "      <td>-0.078388</td>\n",
              "      <td>1.000000</td>\n",
              "      <td>-0.031986</td>\n",
              "      <td>-0.111499</td>\n",
              "      <td>0.014975</td>\n",
              "      <td>-0.035897</td>\n",
              "      <td>0.135189</td>\n",
              "      <td>0.035874</td>\n",
              "    </tr>\n",
              "    <tr>\n",
              "      <th>number_of_reviews</th>\n",
              "      <td>-0.024652</td>\n",
              "      <td>-0.031986</td>\n",
              "      <td>1.000000</td>\n",
              "      <td>0.717656</td>\n",
              "      <td>-0.054774</td>\n",
              "      <td>-0.047962</td>\n",
              "      <td>-0.157988</td>\n",
              "      <td>0.045509</td>\n",
              "    </tr>\n",
              "    <tr>\n",
              "      <th>reviews_per_month</th>\n",
              "      <td>0.070761</td>\n",
              "      <td>-0.111499</td>\n",
              "      <td>0.717656</td>\n",
              "      <td>1.000000</td>\n",
              "      <td>-0.064619</td>\n",
              "      <td>-0.006896</td>\n",
              "      <td>-0.147624</td>\n",
              "      <td>0.039937</td>\n",
              "    </tr>\n",
              "    <tr>\n",
              "      <th>latitude</th>\n",
              "      <td>-0.092424</td>\n",
              "      <td>0.014975</td>\n",
              "      <td>-0.054774</td>\n",
              "      <td>-0.064619</td>\n",
              "      <td>1.000000</td>\n",
              "      <td>0.195377</td>\n",
              "      <td>0.108547</td>\n",
              "      <td>-0.011245</td>\n",
              "    </tr>\n",
              "    <tr>\n",
              "      <th>longitude</th>\n",
              "      <td>0.063150</td>\n",
              "      <td>-0.035897</td>\n",
              "      <td>-0.047962</td>\n",
              "      <td>-0.006896</td>\n",
              "      <td>0.195377</td>\n",
              "      <td>1.000000</td>\n",
              "      <td>0.048879</td>\n",
              "      <td>0.001386</td>\n",
              "    </tr>\n",
              "    <tr>\n",
              "      <th>calculated_host_listings_count</th>\n",
              "      <td>-0.126827</td>\n",
              "      <td>0.135189</td>\n",
              "      <td>-0.157988</td>\n",
              "      <td>-0.147624</td>\n",
              "      <td>0.108547</td>\n",
              "      <td>0.048879</td>\n",
              "      <td>1.000000</td>\n",
              "      <td>0.001827</td>\n",
              "    </tr>\n",
              "    <tr>\n",
              "      <th>availability_365</th>\n",
              "      <td>0.026504</td>\n",
              "      <td>0.035874</td>\n",
              "      <td>0.045509</td>\n",
              "      <td>0.039937</td>\n",
              "      <td>-0.011245</td>\n",
              "      <td>0.001386</td>\n",
              "      <td>0.001827</td>\n",
              "      <td>1.000000</td>\n",
              "    </tr>\n",
              "  </tbody>\n",
              "</table>\n",
              "</div>"
            ],
            "text/plain": [
              "                                   price  ...  availability_365\n",
              "price                           1.000000  ...          0.026504\n",
              "minimum_nights                 -0.078388  ...          0.035874\n",
              "number_of_reviews              -0.024652  ...          0.045509\n",
              "reviews_per_month               0.070761  ...          0.039937\n",
              "latitude                       -0.092424  ...         -0.011245\n",
              "longitude                       0.063150  ...          0.001386\n",
              "calculated_host_listings_count -0.126827  ...          0.001827\n",
              "availability_365                0.026504  ...          1.000000\n",
              "\n",
              "[8 rows x 8 columns]"
            ]
          },
          "metadata": {
            "tags": []
          }
        }
      ]
    },
    {
      "cell_type": "code",
      "metadata": {
        "id": "cUpb1vliFI4d",
        "colab_type": "code",
        "colab": {
          "base_uri": "https://localhost:8080/",
          "height": 410
        },
        "outputId": "1913ac78-c918-4955-c7ca-8d50448950aa"
      },
      "source": [
        "# plotar um heatmap a partir das correlações\n",
        "sns.heatmap (corr, cmap = 'RdBu', fmt = '.2f', square = True, linecolor = 'white', annot = True);"
      ],
      "execution_count": 29,
      "outputs": [
        {
          "output_type": "display_data",
          "data": {
            "image/png": "[encoded data removed]",
            "text/plain": [
              "<Figure size 432x288 with 2 Axes>"
            ]
          },
          "metadata": {
            "tags": [],
            "needs_background": "light"
          }
        }
      ]
    },
    {
      "cell_type": "markdown",
      "metadata": {
        "id": "WgmwF5KrGMzq",
        "colab_type": "text"
      },
      "source": [
        "The heatmap shows that almost all variables don't have any correlation, showing values near zero. With exception the *reviews_per_month* and *number_of_reviews*, one is consquency from the other."
      ]
    },
    {
      "cell_type": "markdown",
      "metadata": {
        "id": "7b6RMWpuHKN-",
        "colab_type": "text"
      },
      "source": [
        "### **Place to stay**"
      ]
    },
    {
      "cell_type": "markdown",
      "metadata": {
        "id": "cgCdvuLAzOvf",
        "colab_type": "text"
      },
      "source": [
        "#### **Type of the room**"
      ]
    },
    {
      "cell_type": "markdown",
      "metadata": {
        "id": "yIQ2JLlRLhkG",
        "colab_type": "text"
      },
      "source": [
        "The hosts in the Airbnb can offer many kinds of places, like a individual room, shared room, entire house ot apartment.\n",
        "\n",
        "So the distribution in Tokyo is:"
      ]
    },
    {
      "cell_type": "code",
      "metadata": {
        "id": "ueLPNWvPHgfB",
        "colab_type": "code",
        "colab": {
          "base_uri": "https://localhost:8080/",
          "height": 503
        },
        "outputId": "423dd6a7-f91b-44b1-9659-052806c99b14"
      },
      "source": [
        "type_place = df_v2['room_type'].value_counts()\n",
        "print (type_place)\n",
        "print(\"\\n\")\n",
        "\n",
        "type_place_p = type_place / df_v2.shape[0] * 100\n",
        "print (type_place_p)\n",
        "print(\"\\n\")\n",
        "\n",
        "df_v2.room_type.hist();"
      ],
      "execution_count": 30,
      "outputs": [
        {
          "output_type": "stream",
          "text": [
            "Entire home/apt    7952\n",
            "Private room       3089\n",
            "Shared room         668\n",
            "Hotel room          579\n",
            "Name: room_type, dtype: int64\n",
            "\n",
            "\n",
            "Entire home/apt    64.713542\n",
            "Private room       25.138346\n",
            "Shared room         5.436198\n",
            "Hotel room          4.711914\n",
            "Name: room_type, dtype: float64\n",
            "\n",
            "\n"
          ],
          "name": "stdout"
        },
        {
          "output_type": "display_data",
          "data": {
            "image/png": "[encoded data removed]",
            "text/plain": [
              "<Figure size 432x288 with 1 Axes>"
            ]
          },
          "metadata": {
            "tags": [],
            "needs_background": "light"
          }
        }
      ]
    },
    {
      "cell_type": "markdown",
      "metadata": {
        "id": "MFa5NbnLJMcd",
        "colab_type": "text"
      },
      "source": [
        "#### **And the neighbourhood**\n",
        "\n"
      ]
    },
    {
      "cell_type": "markdown",
      "metadata": {
        "id": "BHPcyl0WhJ2n",
        "colab_type": "text"
      },
      "source": [
        "Checking the neighbourhood for some conslusion.\n",
        "\n",
        "First, price:"
      ]
    },
    {
      "cell_type": "code",
      "metadata": {
        "id": "uM-yrMxoeRBr",
        "colab_type": "code",
        "colab": {
          "base_uri": "https://localhost:8080/",
          "height": 136
        },
        "outputId": "6f0eef9e-f19d-4549-82b6-8e690ed9e7a6"
      },
      "source": [
        "df_v2.groupby(['neighbourhood']).price.mean().sort_values(ascending = False) [:5]"
      ],
      "execution_count": 31,
      "outputs": [
        {
          "output_type": "execute_result",
          "data": {
            "text/plain": [
              "neighbourhood\n",
              "Hinohara Mura    137.778245\n",
              "Shibuya Ku       121.046134\n",
              "Okutama Machi    120.274972\n",
              "Minato Ku        117.990821\n",
              "Mitaka Shi       113.007233\n",
              "Name: price, dtype: float64"
            ]
          },
          "metadata": {
            "tags": []
          },
          "execution_count": 31
        }
      ]
    },
    {
      "cell_type": "code",
      "metadata": {
        "id": "vcQgvmRauM8b",
        "colab_type": "code",
        "colab": {
          "base_uri": "https://localhost:8080/",
          "height": 102
        },
        "outputId": "c4fb046b-3d82-4ecb-86e3-567b7f8ee2b5"
      },
      "source": [
        "print (\"Hinohara Mura:{}\".format(df_v2[df_v2.neighbourhood == 'Hinohara Mura'].shape[0]))\n",
        "print (\"Shibuya Ku:{}\".format(df_v2[df_v2.neighbourhood == 'Shibuya Ku'].shape[0]))\n",
        "print (\"Okutama Machi:{}\".format(df_v2[df_v2.neighbourhood == 'Okutama Machi'].shape[0]))\n",
        "print (\"Minato Ku:{}\".format(df_v2[df_v2.neighbourhood == 'Minato Ku'].shape[0]))\n",
        "print (\"Mitaka Shi:{}\".format(df_v2[df_v2.neighbourhood == 'Mitaka Shi'].shape[0]))"
      ],
      "execution_count": 32,
      "outputs": [
        {
          "output_type": "stream",
          "text": [
            "Hinohara Mura:4\n",
            "Shibuya Ku:847\n",
            "Okutama Machi:5\n",
            "Minato Ku:458\n",
            "Mitaka Shi:15\n"
          ],
          "name": "stdout"
        }
      ]
    },
    {
      "cell_type": "markdown",
      "metadata": {
        "id": "e1usu2t-1VNi",
        "colab_type": "text"
      },
      "source": [
        "Above, three neightbourhood, *Hinohara Mura*, *Okutama Machi*, *Mitaka Shi*, appears with high prices but with low number of places. So, it's not possible to be sure how expensive they are.\n",
        "\n",
        "So they places call attetions are *Shibuya Ku* and *Minato Ku*. "
      ]
    },
    {
      "cell_type": "markdown",
      "metadata": {
        "id": "uQpCx4n0_nBU",
        "colab_type": "text"
      },
      "source": [
        "To complete the information, see how many places there are spread through the neighbourhood."
      ]
    },
    {
      "cell_type": "code",
      "metadata": {
        "id": "VTexFEdLkWkf",
        "colab_type": "code",
        "colab": {
          "base_uri": "https://localhost:8080/",
          "height": 119
        },
        "outputId": "b9e927d9-f5e8-4e03-d51d-9c4914786d28"
      },
      "source": [
        "df_v2.neighbourhood.value_counts().sort_values(ascending = False)[:5]"
      ],
      "execution_count": 33,
      "outputs": [
        {
          "output_type": "execute_result",
          "data": {
            "text/plain": [
              "Shinjuku Ku    2242\n",
              "Taito Ku       1583\n",
              "Toshima Ku     1347\n",
              "Sumida Ku      1064\n",
              "Shibuya Ku      847\n",
              "Name: neighbourhood, dtype: int64"
            ]
          },
          "metadata": {
            "tags": []
          },
          "execution_count": 33
        }
      ]
    },
    {
      "cell_type": "markdown",
      "metadata": {
        "id": "4TqPWCPaAAYz",
        "colab_type": "text"
      },
      "source": [
        "With the above steps, four heighbourhood call for attention:"
      ]
    },
    {
      "cell_type": "markdown",
      "metadata": {
        "id": "Hg8tCiDjBZe0",
        "colab_type": "text"
      },
      "source": [
        "Checking this four neighbourhood:\n",
        "* Shibuya Ku: is one of the most modern places in Tokyo, aimed at young people. We have establishments such as shopping malls and bars aimed at this audience. One of the most famous spots is the Shibuya Crossing, the largest intersection in the world.\n",
        "\n",
        "<center><img alt=\"Shibuya Ku\" width=\"10%\" src=\"/content/images/6183.jpg\"></center>\n",
        "<center><a href='https://www.freepik.com/free-photos-vectors/business'>Business photo created by mrsiraphol - www.freepik.com</a></center>\n",
        "\n",
        "* Shinjuku Ku: another modern part of the capital, many neon lights, skyscrappers, electronics stores, night foods and bar is an options here. Like shibuya is ideal fpor topurist to know.\n",
        "\n",
        "<center><img alt=\"Shinjuku\" width=\"10%\" src=\"/content/images/gilly-_EBOeN3XBOM-unsplash.jpg\"></center>\n",
        "<center><span>Photo by <a href=\"https://unsplash.com/@gillyberlin?utm_source=unsplash&amp;utm_medium=referral&amp;utm_content=creditCopyText\">Gilly</a> on <a href=\"/s/photos/tokyo-metropolitan-government?utm_source=unsplash&amp;utm_medium=referral&amp;utm_content=creditCopyText\">Unsplash</a></span></center>\n",
        "\n",
        "\n",
        "* Minato Ku: is one of the most internecioal areas, Many companuies establish headquarters there, they have a estabelecimentos voltados para atender melhor um estranheiro. Tokyo Tower is a famous touristc point, it was a antenna based on Eiffel Tower, used for telecomunicação also we received many torusit, it's base have a some museum and restaurnt.\n",
        "\n",
        "\n",
        "<center><img alt=\"Analisando Airbnb\" width=\"15%\" src=\"/content/images/2448.jpg\"></center>\n",
        "<center><a href=\"http://www.freepik.com\">Designed by lifeforstock / Freepik</a></center>\n",
        "\n",
        "\n",
        "\n",
        "* Taito Ku: is more known for the tradicioanl japanese culture, with old shrines and temples, there some museum to learn the culture. On of the famous spot is the Ueno Park, where is Tokyo National Museum is situated and having one of the famous place to see Sakura we is blossom.\n",
        "\n",
        "<center><img alt=\"Analisando Airbnb\" width=\"15%\" src=\"/content/images/dlkr-life-NKqBP5dJ8uY-unsplash.jpg\"></center>\n",
        "<center><span>Photo by <a href=\"https://unsplash.com/@dlkrlife?utm_source=unsplash&amp;utm_medium=referral&amp;utm_content=creditCopyText\">DLKR Life</a> on <a href=\"/s/photos/ueno-park?utm_source=unsplash&amp;utm_medium=referral&amp;utm_content=creditCopyText\">Unsplash</a></span></center>"
      ]
    },
    {
      "cell_type": "markdown",
      "metadata": {
        "id": "raWvQ12CU815",
        "colab_type": "text"
      },
      "source": [
        "As said before, Tokyo will be will COI event in 2021. Most of the games will be at the japan's capital. \n",
        "\n",
        "It was divided in two sector, Heritage Zone and Bay Zone The Heritage Zone is West side from central area, you can rent a place like Shibuya to be next to the event, for other choose the Minntao it is near from the bay,\n",
        "\n",
        "https://www.google.com/maps/d/viewer?mid=18C3uYS-fRGhZ5ybNFT_31OKE87A&ll=35.64845551138853%2C139.82345925609908&z=12\n",
        "https://www.2020games.metro.tokyo.lg.jp/eng/taikaijyunbi/taikai/map/detail_map/index.html"
      ]
    },
    {
      "cell_type": "markdown",
      "metadata": {
        "id": "GkvAg623RjoR",
        "colab_type": "text"
      },
      "source": [
        "## Conclusions\n",
        "\n",
        "With the of the project is possible to see that Tokyo is city with different styles of atictivities. This is a cities with modern caracterisitc like skycrappers, malls and new foods. Also you can see the tradicional and ancient culture from japan, tradicional food, ancient temple and shrines. If you want to escape the routine from the city is possible to escape and visit natural spot, like the island landscape, with beach, ocean, mountains for hiking.\n",
        "\n",
        "A few insights with this projects, is Tokyo offers accomodation mostly from USD 50,00 to USC 150,00\n",
        "\n",
        "Pelos dados, ainda foi possivel observar que Tokyo uma distribuição, \n",
        "\n",
        "\n",
        "With the end of this project, it can show that Tokyo can be a very modern citis with skyscrappers, as atividades though the night, but is possible to see a more tradicional culture, or even naturals places\n",
        "\n",
        "Continue with the duality, it is a place for business, many places offering a bed for minimum a day to the worker travelings but the tourism is increasing in the city\n",
        "\n",
        "In the databse picked in Iside Airbnb, there were many Outliers in many varaible, like in prices, minimum nights, but what called for attetions, was the coordinates. With this shows that Toky doesn't offere only a place in the main island, also in small village in *alto mar* fot peacefl place to stay. Like the Ogasawara Island.\n",
        "\n",
        "To the ending, this was the first project in Data Science, it broght a challegen because not only showed some basics from the area area, but also it make do a research to find why the information was behave like that.\n"
      ]
    }
  ]
}