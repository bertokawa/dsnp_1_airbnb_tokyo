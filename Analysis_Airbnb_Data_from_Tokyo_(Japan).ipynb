{
  "nbformat": 4,
  "nbformat_minor": 0,
  "metadata": {
    "colab": {
      "name": "Analysis Airbnb Data from Tokyo (Japan).ipynb",
      "provenance": [],
      "collapsed_sections": [],
      "include_colab_link": true
    },
    "kernelspec": {
      "name": "python3",
      "display_name": "Python 3"
    }
  },
  "cells": [
    {
      "cell_type": "markdown",
      "metadata": {
        "id": "view-in-github",
        "colab_type": "text"
      },
      "source": [
        "<a href=\"https://colab.research.google.com/github/bertokawa/dsnp_1_airbnb_tokyo/blob/master/Analysis_Airbnb_Data_from_Tokyo_(Japan).ipynb\" target=\"_parent\"><img src=\"https://colab.research.google.com/assets/colab-badge.svg\" alt=\"Open In Colab\"/></a>"
      ]
    },
    {
      "cell_type": "markdown",
      "metadata": {
        "id": "kLI0gJtzDGuQ",
        "colab_type": "text"
      },
      "source": [
        "# **Project 1 in *Data Science na Pratica***\n",
        "*by Humberto Cavamura ([Github](https://github.com/bertokawa)*)\n",
        "\n",
        "---\n",
        "\n",
        "# **Analyzing Data from Airbnb - *Tokyo (JAPAN)***   \n",
        "\n",
        "<p class=\"horizontalcenter\">\n",
        "  <img alt=\"letras-ciudad-tokio\" width=\"40%\" src=\"https://github.com/bertokawa/dsnp_1_airbnb_tokyo/blob/images/images/letras-ciudad-tokio/3225888.jpg?raw=true\" style=\"horizontal-align:middle\">\n",
        "</p>\n",
        "\n",
        "<div>\n",
        "  <p class=\"horizontalcenter\">\n",
        "    <a href=\"http://www.freepik.com\">Designed by Freepik</a>\n",
        "    </p>\n",
        "</div>\n",
        "\n",
        "One of the biggest startups in the world, the [Airbnb](https://www.airbnb.com/) changed the hotel industry with new concepts like share economy and the disruptive innovation. It created a digital platform that connects people who need a place to stay for a few nights and those who have it. So, without owning a single accommodation, Airbnb offers many kinds of places like single rooms, entire apartments for a more reasonable price.\n",
        "\n",
        "With the massive expansion of the Airbnb, another independent initiative began to growth, is called [Inside Airbnb](http://insideairbnb.com/). It has been offering some data in the internet to people see how Airbnb is present in the cities and how the startup is might affecting the local industry. There is a rivalry between them, Inside Airbnb is questioning the benefits of the Airbnb, but talking about this issue is not the objective of this project.\n",
        "\n",
        "This project will be dedicated in analyzing data from the Inside Airbnb about Tokyo(Japan) and see the insights it can bring.\n"
      ]
    },
    {
      "cell_type": "markdown",
      "metadata": {
        "id": "0zxQHhIUDF_2",
        "colab_type": "text"
      },
      "source": [
        "## **First steps - Data acquisition**"
      ]
    },
    {
      "cell_type": "markdown",
      "metadata": {
        "id": "JpgnvgxWwhoo",
        "colab_type": "text"
      },
      "source": [
        "### **Introduction**\n",
        "\n",
        "The tool used in here was Python language and the following packages:"
      ]
    },
    {
      "cell_type": "code",
      "metadata": {
        "id": "Vhp2wMPgJ6zX",
        "colab_type": "code",
        "colab": {
          "base_uri": "https://localhost:8080/",
          "height": 71
        },
        "outputId": "f0c68445-f092-4eae-9f73-ab6175bfc2aa"
      },
      "source": [
        "import pandas as pd;\n",
        "import matplotlib.pyplot as plt;\n",
        "import seaborn as sns;"
      ],
      "execution_count": null,
      "outputs": [
        {
          "output_type": "stream",
          "text": [
            "/usr/local/lib/python3.6/dist-packages/statsmodels/tools/_testing.py:19: FutureWarning: pandas.util.testing is deprecated. Use the functions in the public API at pandas.testing instead.\n",
            "  import pandas.util.testing as tm\n"
          ],
          "name": "stderr"
        }
      ]
    },
    {
      "cell_type": "markdown",
      "metadata": {
        "id": "newhiu2ZIu_k",
        "colab_type": "text"
      },
      "source": [
        "To start the analysis, was chosen the file [listings.csv](http://data.insideairbnb.com/japan/kant%C5%8D/tokyo/2020-05-30/visualisations/listings.csv) from the site [Get the Data - Inside Airbnb](http://insideairbnb.com/get-the-data.html). This file was chosen because it is more compact but has enough data to use."
      ]
    },
    {
      "cell_type": "code",
      "metadata": {
        "id": "tUmoAT8DLQ5T",
        "colab_type": "code",
        "colab": {}
      },
      "source": [
        "df = pd.read_csv (\"http://data.insideairbnb.com/japan/kant%C5%8D/tokyo/2020-05-30/visualisations/listings.csv\")"
      ],
      "execution_count": null,
      "outputs": []
    },
    {
      "cell_type": "markdown",
      "metadata": {
        "id": "iiVhkjoYLSAU",
        "colab_type": "text"
      },
      "source": [
        "### **About the file**\n",
        "\n",
        "Let's show inside the file and how the variables and values are organized."
      ]
    },
    {
      "cell_type": "code",
      "metadata": {
        "id": "9jCpdv-sLZZy",
        "colab_type": "code",
        "colab": {
          "base_uri": "https://localhost:8080/",
          "height": 51
        },
        "outputId": "291e3f85-a105-46b1-bded-4d9efd67be04"
      },
      "source": [
        "print (\"{} inputs of data.\".format(df.shape[0]))\n",
        "print (\"{} variables.\".format(df.shape[1]))"
      ],
      "execution_count": null,
      "outputs": [
        {
          "output_type": "stream",
          "text": [
            "15009 inputs of data.\n",
            "16 variables.\n"
          ],
          "name": "stdout"
        }
      ]
    },
    {
      "cell_type": "code",
      "metadata": {
        "id": "v6-85nqltVHm",
        "colab_type": "code",
        "colab": {
          "base_uri": "https://localhost:8080/",
          "height": 306
        },
        "outputId": "83b3a136-2ada-4cc3-d012-a3b9f89c8e74"
      },
      "source": [
        "df.dtypes"
      ],
      "execution_count": null,
      "outputs": [
        {
          "output_type": "execute_result",
          "data": {
            "text/plain": [
              "id                                  int64\n",
              "name                               object\n",
              "host_id                             int64\n",
              "host_name                          object\n",
              "neighbourhood_group               float64\n",
              "neighbourhood                      object\n",
              "latitude                          float64\n",
              "longitude                         float64\n",
              "room_type                          object\n",
              "price                               int64\n",
              "minimum_nights                      int64\n",
              "number_of_reviews                   int64\n",
              "last_review                        object\n",
              "reviews_per_month                 float64\n",
              "calculated_host_listings_count      int64\n",
              "availability_365                    int64\n",
              "dtype: object"
            ]
          },
          "metadata": {
            "tags": []
          },
          "execution_count": 5
        }
      ]
    },
    {
      "cell_type": "markdown",
      "metadata": {
        "id": "Ps_4mC6PMKne",
        "colab_type": "text"
      },
      "source": [
        "It can be a little confusing seen the data as shown as above, but here a little description:\n",
        "\n",
        "* id - ID number of the place\n",
        "* name - name given to the place\n",
        "* host_id - ID number of the host\n",
        "* host_name - name of the host\n",
        "* neighbourhood_group - a column without data\n",
        "* neighbourhood - name of the neighborhood\n",
        "* latitude - latitude of the place\n",
        "* longitude - longitude of the place\n",
        "* room_type - type of the place\n",
        "* price - price to rent\n",
        "* minimum_nights - minimum nights to stay\n",
        "* number_of_reviews - the number of reviews received\n",
        "* last_review - when was the last review\n",
        "* reviews_per_month - mean of the review per month\n",
        "* calculated_host_listings_count - how many places the host has\n",
        "* availability_365 - how many days the place is available in 365 days"
      ]
    },
    {
      "cell_type": "markdown",
      "metadata": {
        "id": "Sq2ARMHuuSie",
        "colab_type": "text"
      },
      "source": [
        "### **Example of the table**"
      ]
    },
    {
      "cell_type": "markdown",
      "metadata": {
        "id": "BIlohLiSeYYT",
        "colab_type": "text"
      },
      "source": [
        "The first five inputs from the file, to see if the table needs some adjusting."
      ]
    },
    {
      "cell_type": "code",
      "metadata": {
        "id": "2iS_dae7YQtO",
        "colab_type": "code",
        "colab": {
          "base_uri": "https://localhost:8080/",
          "height": 462
        },
        "outputId": "daed01ac-8182-4913-f4a1-1a0937a3b8fb"
      },
      "source": [
        "df.head(5)"
      ],
      "execution_count": null,
      "outputs": [
        {
          "output_type": "execute_result",
          "data": {
            "text/html": [
              "<div>\n",
              "<style scoped>\n",
              "    .dataframe tbody tr th:only-of-type {\n",
              "        vertical-align: middle;\n",
              "    }\n",
              "\n",
              "    .dataframe tbody tr th {\n",
              "        vertical-align: top;\n",
              "    }\n",
              "\n",
              "    .dataframe thead th {\n",
              "        text-align: right;\n",
              "    }\n",
              "</style>\n",
              "<table border=\"1\" class=\"dataframe\">\n",
              "  <thead>\n",
              "    <tr style=\"text-align: right;\">\n",
              "      <th></th>\n",
              "      <th>id</th>\n",
              "      <th>name</th>\n",
              "      <th>host_id</th>\n",
              "      <th>host_name</th>\n",
              "      <th>neighbourhood_group</th>\n",
              "      <th>neighbourhood</th>\n",
              "      <th>latitude</th>\n",
              "      <th>longitude</th>\n",
              "      <th>room_type</th>\n",
              "      <th>price</th>\n",
              "      <th>minimum_nights</th>\n",
              "      <th>number_of_reviews</th>\n",
              "      <th>last_review</th>\n",
              "      <th>reviews_per_month</th>\n",
              "      <th>calculated_host_listings_count</th>\n",
              "      <th>availability_365</th>\n",
              "    </tr>\n",
              "  </thead>\n",
              "  <tbody>\n",
              "    <tr>\n",
              "      <th>0</th>\n",
              "      <td>35303</td>\n",
              "      <td>La Casa Gaienmae C Harajuku, Omotesando is nearby</td>\n",
              "      <td>151977</td>\n",
              "      <td>Miyuki</td>\n",
              "      <td>NaN</td>\n",
              "      <td>Shibuya Ku</td>\n",
              "      <td>35.67152</td>\n",
              "      <td>139.71203</td>\n",
              "      <td>Private room</td>\n",
              "      <td>4192</td>\n",
              "      <td>28</td>\n",
              "      <td>18</td>\n",
              "      <td>2018-07-28</td>\n",
              "      <td>0.18</td>\n",
              "      <td>3</td>\n",
              "      <td>89</td>\n",
              "    </tr>\n",
              "    <tr>\n",
              "      <th>1</th>\n",
              "      <td>197677</td>\n",
              "      <td>Oshiage Holiday Apartment</td>\n",
              "      <td>964081</td>\n",
              "      <td>Yoshimi &amp; Marek</td>\n",
              "      <td>NaN</td>\n",
              "      <td>Sumida Ku</td>\n",
              "      <td>35.71721</td>\n",
              "      <td>139.82596</td>\n",
              "      <td>Entire home/apt</td>\n",
              "      <td>10965</td>\n",
              "      <td>3</td>\n",
              "      <td>165</td>\n",
              "      <td>2020-03-04</td>\n",
              "      <td>1.56</td>\n",
              "      <td>1</td>\n",
              "      <td>270</td>\n",
              "    </tr>\n",
              "    <tr>\n",
              "      <th>2</th>\n",
              "      <td>289597</td>\n",
              "      <td>Private apt in central Tokyo #203</td>\n",
              "      <td>341577</td>\n",
              "      <td>Hide&amp;Kei</td>\n",
              "      <td>NaN</td>\n",
              "      <td>Nerima Ku</td>\n",
              "      <td>35.74267</td>\n",
              "      <td>139.65810</td>\n",
              "      <td>Entire home/apt</td>\n",
              "      <td>4192</td>\n",
              "      <td>28</td>\n",
              "      <td>113</td>\n",
              "      <td>2020-02-17</td>\n",
              "      <td>1.17</td>\n",
              "      <td>2</td>\n",
              "      <td>242</td>\n",
              "    </tr>\n",
              "    <tr>\n",
              "      <th>3</th>\n",
              "      <td>370759</td>\n",
              "      <td>Cozy flat #203, local area YET 10 mins to shib...</td>\n",
              "      <td>1573631</td>\n",
              "      <td>Gilles,Mayumi,Taiki</td>\n",
              "      <td>NaN</td>\n",
              "      <td>Setagaya Ku</td>\n",
              "      <td>35.66443</td>\n",
              "      <td>139.65707</td>\n",
              "      <td>Entire home/apt</td>\n",
              "      <td>6987</td>\n",
              "      <td>28</td>\n",
              "      <td>103</td>\n",
              "      <td>2020-04-16</td>\n",
              "      <td>1.37</td>\n",
              "      <td>3</td>\n",
              "      <td>364</td>\n",
              "    </tr>\n",
              "    <tr>\n",
              "      <th>4</th>\n",
              "      <td>700253</td>\n",
              "      <td>Private apt in central Tokyo #201</td>\n",
              "      <td>341577</td>\n",
              "      <td>Hide&amp;Kei</td>\n",
              "      <td>NaN</td>\n",
              "      <td>Nerima Ku</td>\n",
              "      <td>35.74264</td>\n",
              "      <td>139.65832</td>\n",
              "      <td>Entire home/apt</td>\n",
              "      <td>3977</td>\n",
              "      <td>28</td>\n",
              "      <td>104</td>\n",
              "      <td>2020-05-12</td>\n",
              "      <td>1.12</td>\n",
              "      <td>2</td>\n",
              "      <td>353</td>\n",
              "    </tr>\n",
              "  </tbody>\n",
              "</table>\n",
              "</div>"
            ],
            "text/plain": [
              "       id  ... availability_365\n",
              "0   35303  ...               89\n",
              "1  197677  ...              270\n",
              "2  289597  ...              242\n",
              "3  370759  ...              364\n",
              "4  700253  ...              353\n",
              "\n",
              "[5 rows x 16 columns]"
            ]
          },
          "metadata": {
            "tags": []
          },
          "execution_count": 6
        }
      ]
    },
    {
      "cell_type": "markdown",
      "metadata": {
        "id": "yz1urSUGW9iE",
        "colab_type": "text"
      },
      "source": [
        "### **Adjusting the table**"
      ]
    },
    {
      "cell_type": "markdown",
      "metadata": {
        "id": "xAdWopVU_05b",
        "colab_type": "text"
      },
      "source": [
        "An important fact observed in this database was the price. It's using Japanese currency, JPY (Japan Yen), but for easier analysis is necessary to convert to USD (US Dollars).\n",
        "\n",
        "This exchange currency was on June 27 2020.\n",
        "\n",
        "$$\n",
        "1 (USD) = 107.211 (JPY)\n",
        "$$\n",
        "\n"
      ]
    },
    {
      "cell_type": "code",
      "metadata": {
        "id": "DwIYKb-6olx1",
        "colab_type": "code",
        "colab": {}
      },
      "source": [
        "df_backup = df.copy()\n",
        "df['price'] = df['price'] / 107.211"
      ],
      "execution_count": null,
      "outputs": []
    },
    {
      "cell_type": "markdown",
      "metadata": {
        "id": "0bQqPtso5fNN",
        "colab_type": "text"
      },
      "source": [
        "Next step is checking in the table for NULL values:"
      ]
    },
    {
      "cell_type": "code",
      "metadata": {
        "id": "plk2FjbCXOqP",
        "colab_type": "code",
        "colab": {
          "base_uri": "https://localhost:8080/",
          "height": 306
        },
        "outputId": "4eaba0b2-396b-49fb-8293-681d3a948ee4"
      },
      "source": [
        "df.isnull().sum().sort_values (ascending = False) / df.shape[0] * 100"
      ],
      "execution_count": null,
      "outputs": [
        {
          "output_type": "execute_result",
          "data": {
            "text/plain": [
              "neighbourhood_group               100.000000\n",
              "reviews_per_month                  17.609434\n",
              "last_review                        17.609434\n",
              "host_name                           0.046639\n",
              "availability_365                    0.000000\n",
              "calculated_host_listings_count      0.000000\n",
              "number_of_reviews                   0.000000\n",
              "minimum_nights                      0.000000\n",
              "price                               0.000000\n",
              "room_type                           0.000000\n",
              "longitude                           0.000000\n",
              "latitude                            0.000000\n",
              "neighbourhood                       0.000000\n",
              "host_id                             0.000000\n",
              "name                                0.000000\n",
              "id                                  0.000000\n",
              "dtype: float64"
            ]
          },
          "metadata": {
            "tags": []
          },
          "execution_count": 8
        }
      ]
    },
    {
      "cell_type": "markdown",
      "metadata": {
        "id": "XLX8s_3H51qp",
        "colab_type": "text"
      },
      "source": [
        "As shown above, the variable *neighbourhood_column* has all input as Null, so this it will be dropped from the table.\n",
        "\n",
        "Also *review_per_month* and *last_review* and *host_name* have a few nulls too, but it won't be deal at this time.\n"
      ]
    },
    {
      "cell_type": "code",
      "metadata": {
        "id": "vzbOWY8v8ZTC",
        "colab_type": "code",
        "colab": {}
      },
      "source": [
        "df.drop ('neighbourhood_group', axis = 1, inplace = True)"
      ],
      "execution_count": null,
      "outputs": []
    },
    {
      "cell_type": "markdown",
      "metadata": {
        "id": "jjeVO7W3d_El",
        "colab_type": "text"
      },
      "source": [
        "## **Next step - Analyzing raw data**\n"
      ]
    },
    {
      "cell_type": "markdown",
      "metadata": {
        "id": "NEn66fXvv2R8",
        "colab_type": "text"
      },
      "source": [
        "This step is for checking the data and bringing some information."
      ]
    },
    {
      "cell_type": "markdown",
      "metadata": {
        "id": "pGDPveLaRYB2",
        "colab_type": "text"
      },
      "source": [
        "### **Starting analyzing**"
      ]
    },
    {
      "cell_type": "markdown",
      "metadata": {
        "id": "lMO9ru9KRgSU",
        "colab_type": "text"
      },
      "source": [
        "Using some statistical operations will help to find some insights."
      ]
    },
    {
      "cell_type": "code",
      "metadata": {
        "id": "Y_KmJ0AHRf49",
        "colab_type": "code",
        "colab": {
          "base_uri": "https://localhost:8080/",
          "height": 317
        },
        "outputId": "0934f2f8-8a8e-419f-d878-4ebe17e218e0"
      },
      "source": [
        "df.describe()"
      ],
      "execution_count": null,
      "outputs": [
        {
          "output_type": "execute_result",
          "data": {
            "text/html": [
              "<div>\n",
              "<style scoped>\n",
              "    .dataframe tbody tr th:only-of-type {\n",
              "        vertical-align: middle;\n",
              "    }\n",
              "\n",
              "    .dataframe tbody tr th {\n",
              "        vertical-align: top;\n",
              "    }\n",
              "\n",
              "    .dataframe thead th {\n",
              "        text-align: right;\n",
              "    }\n",
              "</style>\n",
              "<table border=\"1\" class=\"dataframe\">\n",
              "  <thead>\n",
              "    <tr style=\"text-align: right;\">\n",
              "      <th></th>\n",
              "      <th>id</th>\n",
              "      <th>host_id</th>\n",
              "      <th>latitude</th>\n",
              "      <th>longitude</th>\n",
              "      <th>price</th>\n",
              "      <th>minimum_nights</th>\n",
              "      <th>number_of_reviews</th>\n",
              "      <th>reviews_per_month</th>\n",
              "      <th>calculated_host_listings_count</th>\n",
              "      <th>availability_365</th>\n",
              "    </tr>\n",
              "  </thead>\n",
              "  <tbody>\n",
              "    <tr>\n",
              "      <th>count</th>\n",
              "      <td>1.500900e+04</td>\n",
              "      <td>1.500900e+04</td>\n",
              "      <td>15009.000000</td>\n",
              "      <td>15009.000000</td>\n",
              "      <td>15009.000000</td>\n",
              "      <td>15009.000000</td>\n",
              "      <td>15009.000000</td>\n",
              "      <td>12366.000000</td>\n",
              "      <td>15009.000000</td>\n",
              "      <td>15009.000000</td>\n",
              "    </tr>\n",
              "    <tr>\n",
              "      <th>mean</th>\n",
              "      <td>3.171782e+07</td>\n",
              "      <td>1.704263e+08</td>\n",
              "      <td>35.694697</td>\n",
              "      <td>139.734775</td>\n",
              "      <td>254.003366</td>\n",
              "      <td>3.418149</td>\n",
              "      <td>26.529482</td>\n",
              "      <td>1.565028</td>\n",
              "      <td>13.563262</td>\n",
              "      <td>151.573789</td>\n",
              "    </tr>\n",
              "    <tr>\n",
              "      <th>std</th>\n",
              "      <td>9.436473e+06</td>\n",
              "      <td>1.005129e+08</td>\n",
              "      <td>0.143989</td>\n",
              "      <td>0.081667</td>\n",
              "      <td>734.921764</td>\n",
              "      <td>9.251353</td>\n",
              "      <td>40.767312</td>\n",
              "      <td>1.297347</td>\n",
              "      <td>16.145016</td>\n",
              "      <td>119.080421</td>\n",
              "    </tr>\n",
              "    <tr>\n",
              "      <th>min</th>\n",
              "      <td>3.530300e+04</td>\n",
              "      <td>1.519770e+05</td>\n",
              "      <td>27.072330</td>\n",
              "      <td>139.123190</td>\n",
              "      <td>0.000000</td>\n",
              "      <td>1.000000</td>\n",
              "      <td>0.000000</td>\n",
              "      <td>0.020000</td>\n",
              "      <td>1.000000</td>\n",
              "      <td>0.000000</td>\n",
              "    </tr>\n",
              "    <tr>\n",
              "      <th>25%</th>\n",
              "      <td>2.651004e+07</td>\n",
              "      <td>7.061679e+07</td>\n",
              "      <td>35.685800</td>\n",
              "      <td>139.699340</td>\n",
              "      <td>65.170552</td>\n",
              "      <td>1.000000</td>\n",
              "      <td>2.000000</td>\n",
              "      <td>0.600000</td>\n",
              "      <td>3.000000</td>\n",
              "      <td>55.000000</td>\n",
              "    </tr>\n",
              "    <tr>\n",
              "      <th>50%</th>\n",
              "      <td>3.344028e+07</td>\n",
              "      <td>1.857782e+08</td>\n",
              "      <td>35.702810</td>\n",
              "      <td>139.728020</td>\n",
              "      <td>111.294550</td>\n",
              "      <td>1.000000</td>\n",
              "      <td>11.000000</td>\n",
              "      <td>1.360000</td>\n",
              "      <td>8.000000</td>\n",
              "      <td>145.000000</td>\n",
              "    </tr>\n",
              "    <tr>\n",
              "      <th>75%</th>\n",
              "      <td>3.967955e+07</td>\n",
              "      <td>2.529105e+08</td>\n",
              "      <td>35.724600</td>\n",
              "      <td>139.784810</td>\n",
              "      <td>186.501385</td>\n",
              "      <td>2.000000</td>\n",
              "      <td>34.000000</td>\n",
              "      <td>2.240000</td>\n",
              "      <td>18.000000</td>\n",
              "      <td>246.000000</td>\n",
              "    </tr>\n",
              "    <tr>\n",
              "      <th>max</th>\n",
              "      <td>4.357856e+07</td>\n",
              "      <td>3.469412e+08</td>\n",
              "      <td>35.832430</td>\n",
              "      <td>142.202880</td>\n",
              "      <td>9944.259451</td>\n",
              "      <td>365.000000</td>\n",
              "      <td>529.000000</td>\n",
              "      <td>40.080000</td>\n",
              "      <td>95.000000</td>\n",
              "      <td>365.000000</td>\n",
              "    </tr>\n",
              "  </tbody>\n",
              "</table>\n",
              "</div>"
            ],
            "text/plain": [
              "                 id  ...  availability_365\n",
              "count  1.500900e+04  ...      15009.000000\n",
              "mean   3.171782e+07  ...        151.573789\n",
              "std    9.436473e+06  ...        119.080421\n",
              "min    3.530300e+04  ...          0.000000\n",
              "25%    2.651004e+07  ...         55.000000\n",
              "50%    3.344028e+07  ...        145.000000\n",
              "75%    3.967955e+07  ...        246.000000\n",
              "max    4.357856e+07  ...        365.000000\n",
              "\n",
              "[8 rows x 10 columns]"
            ]
          },
          "metadata": {
            "tags": []
          },
          "execution_count": 10
        }
      ]
    },
    {
      "cell_type": "markdown",
      "metadata": {
        "id": "N_Kx8UvJqy39",
        "colab_type": "text"
      },
      "source": [
        "In a first impression, some variables are showing a strange behavior:\n",
        "\n",
        "* *price* - the maximum value is a way higher than the mean, almost four times. Also 75% of the data is too lower than the maximum. So maybe there are few places having exorbitant values compared to others and interfering in the analysis.\n",
        "\n",
        "* *minimum_nights* - this variable has a problem similar from the *price*. There is a rent place for a minimum_nights equals a year, it's is very strange since the Airbnb is used more to rent for a few days like a weekend.\n",
        "\n",
        "* *latitude* - there is a difference about 8º latitude in the minimum value and the mean. This difference is more than 850km in real world, this is almost the distance from Tokyo (Japan) to Hiroshima (Japan).\n",
        "\n",
        "* *longitude* - there is a difference about 3º longitude, it can be almost 300km extension.\n",
        "\n",
        "These points with strange values are called *outliers*. It can be some exceptions or even a error."
      ]
    },
    {
      "cell_type": "markdown",
      "metadata": {
        "id": "sN7PP33Myuu6",
        "colab_type": "text"
      },
      "source": [
        "### **Deeper analysis on each variable listed above**"
      ]
    },
    {
      "cell_type": "markdown",
      "metadata": {
        "id": "NgUdh-COPJu7",
        "colab_type": "text"
      },
      "source": [
        "Let's start visualize the data distribution with histograms."
      ]
    },
    {
      "cell_type": "code",
      "metadata": {
        "id": "q2wWSfeRbmBo",
        "colab_type": "code",
        "colab": {
          "base_uri": "https://localhost:8080/",
          "height": 607
        },
        "outputId": "8dc5e399-e763-488b-8c79-ba0b539223ed"
      },
      "source": [
        "df.hist (bins = 15, figsize = (15,10));"
      ],
      "execution_count": null,
      "outputs": [
        {
          "output_type": "display_data",
          "data": {
            "image/png": "[encoded data removed]",
            "text/plain": [
              "<Figure size 1080x720 with 12 Axes>"
            ]
          },
          "metadata": {
            "tags": [],
            "needs_background": "light"
          }
        }
      ]
    },
    {
      "cell_type": "markdown",
      "metadata": {
        "id": "L_x-25BXRrTS",
        "colab_type": "text"
      },
      "source": [
        "As said before, some variables are showing some inconsistence. \n",
        "* *price* - a large concentration of numbers below USD 1000,00, almost zero above this value.\n",
        "* *minimum_nights* - high concentration with few days. Above this day appearing to be almost zero.\n",
        "* *latitude* - a concentration of coordinates in 35º lat, but it shows a few below at 28º lat."
      ]
    },
    {
      "cell_type": "markdown",
      "metadata": {
        "id": "tU7B-Kp5iDOv",
        "colab_type": "text"
      },
      "source": [
        "#### **Let's begin with *PRICE***\n"
      ]
    },
    {
      "cell_type": "markdown",
      "metadata": {
        "id": "eMjHfkzr48xa",
        "colab_type": "text"
      },
      "source": [
        "Let's visualize these outliers, with a graphic called Boxplot."
      ]
    },
    {
      "cell_type": "code",
      "metadata": {
        "id": "rAMKClMf8JAE",
        "colab_type": "code",
        "colab": {
          "base_uri": "https://localhost:8080/",
          "height": 262
        },
        "outputId": "c6b361bd-cc12-4b69-c5d4-da54765c56ed"
      },
      "source": [
        "df.price.plot (kind = 'box', vert = False, figsize = (15,3))\n",
        "plt.show()\n",
        "\n",
        "print (\"price: value over than 270:\")\n",
        "print (\"{} inputs\".format(len(df[df.price > 270])))\n",
        "print (\"{:4%}\".format((len(df[df.price > 270])/df.shape[0])))"
      ],
      "execution_count": null,
      "outputs": [
        {
          "output_type": "display_data",
          "data": {
            "image/png": "[encoded data removed]",
            "text/plain": [
              "<Figure size 1080x216 with 1 Axes>"
            ]
          },
          "metadata": {
            "tags": [],
            "needs_background": "light"
          }
        },
        {
          "output_type": "stream",
          "text": [
            "price: value over than 270:\n",
            "2692 inputs\n",
            "17.935905%\n"
          ],
          "name": "stdout"
        }
      ]
    },
    {
      "cell_type": "markdown",
      "metadata": {
        "id": "53yNG7tek2nm",
        "colab_type": "text"
      },
      "source": [
        "The dots are the outliers. They are going to be removed from the table for easier analysis."
      ]
    },
    {
      "cell_type": "code",
      "metadata": {
        "id": "ZX4M1De89Zrm",
        "colab_type": "code",
        "colab": {
          "base_uri": "https://localhost:8080/",
          "height": 211
        },
        "outputId": "099ba0fa-ba9b-4009-b752-fc7868c6cfb4"
      },
      "source": [
        "df_price = df.copy()\n",
        "\n",
        "df_price.drop (df_price[df_price.price > 270].index, axis = 0, inplace = True)\n",
        "\n",
        "df_price.price.plot (kind = 'box', vert = False, figsize = (15,3))\n",
        "plt.show()\n",
        "\n",
        "df_v2 = df_price.copy()"
      ],
      "execution_count": null,
      "outputs": [
        {
          "output_type": "display_data",
          "data": {
            "image/png": "[encoded data removed]",
            "text/plain": [
              "<Figure size 1080x216 with 1 Axes>"
            ]
          },
          "metadata": {
            "tags": [],
            "needs_background": "light"
          }
        }
      ]
    },
    {
      "cell_type": "markdown",
      "metadata": {
        "id": "bzeVJ6Oflkhu",
        "colab_type": "text"
      },
      "source": [
        "Using *USD 270,00*, get easier to see that most place to rent is  between USD 50,00 to USD 150,00."
      ]
    },
    {
      "cell_type": "code",
      "metadata": {
        "id": "drYxfaRxB-89",
        "colab_type": "code",
        "colab": {
          "base_uri": "https://localhost:8080/",
          "height": 592
        },
        "outputId": "3cf11e5a-5c46-43c4-c9a8-3a978e2a954b"
      },
      "source": [
        "df_price.price.hist (bins = 15, figsize = (15,10));"
      ],
      "execution_count": null,
      "outputs": [
        {
          "output_type": "display_data",
          "data": {
            "image/png": "[encoded data removed]",
            "text/plain": [
              "<Figure size 1080x720 with 1 Axes>"
            ]
          },
          "metadata": {
            "tags": [],
            "needs_background": "light"
          }
        }
      ]
    },
    {
      "cell_type": "markdown",
      "metadata": {
        "id": "TaGBYvlUAhLW",
        "colab_type": "text"
      },
      "source": [
        "Using histograms again to price, the main value is almost similar from the boxplot."
      ]
    },
    {
      "cell_type": "code",
      "metadata": {
        "id": "zOAPDKNGCCZu",
        "colab_type": "code",
        "colab": {
          "base_uri": "https://localhost:8080/",
          "height": 297
        },
        "outputId": "03a0cd95-710c-413e-dde3-2345f90f20b8"
      },
      "source": [
        "df_price [['price']].describe()"
      ],
      "execution_count": null,
      "outputs": [
        {
          "output_type": "execute_result",
          "data": {
            "text/html": [
              "<div>\n",
              "<style scoped>\n",
              "    .dataframe tbody tr th:only-of-type {\n",
              "        vertical-align: middle;\n",
              "    }\n",
              "\n",
              "    .dataframe tbody tr th {\n",
              "        vertical-align: top;\n",
              "    }\n",
              "\n",
              "    .dataframe thead th {\n",
              "        text-align: right;\n",
              "    }\n",
              "</style>\n",
              "<table border=\"1\" class=\"dataframe\">\n",
              "  <thead>\n",
              "    <tr style=\"text-align: right;\">\n",
              "      <th></th>\n",
              "      <th>price</th>\n",
              "    </tr>\n",
              "  </thead>\n",
              "  <tbody>\n",
              "    <tr>\n",
              "      <th>count</th>\n",
              "      <td>12317.000000</td>\n",
              "    </tr>\n",
              "    <tr>\n",
              "      <th>mean</th>\n",
              "      <td>101.215849</td>\n",
              "    </tr>\n",
              "    <tr>\n",
              "      <th>std</th>\n",
              "      <td>58.228243</td>\n",
              "    </tr>\n",
              "    <tr>\n",
              "      <th>min</th>\n",
              "      <td>0.000000</td>\n",
              "    </tr>\n",
              "    <tr>\n",
              "      <th>25%</th>\n",
              "      <td>56.150955</td>\n",
              "    </tr>\n",
              "    <tr>\n",
              "      <th>50%</th>\n",
              "      <td>93.246029</td>\n",
              "    </tr>\n",
              "    <tr>\n",
              "      <th>75%</th>\n",
              "      <td>140.377387</td>\n",
              "    </tr>\n",
              "    <tr>\n",
              "      <th>max</th>\n",
              "      <td>268.722426</td>\n",
              "    </tr>\n",
              "  </tbody>\n",
              "</table>\n",
              "</div>"
            ],
            "text/plain": [
              "              price\n",
              "count  12317.000000\n",
              "mean     101.215849\n",
              "std       58.228243\n",
              "min        0.000000\n",
              "25%       56.150955\n",
              "50%       93.246029\n",
              "75%      140.377387\n",
              "max      268.722426"
            ]
          },
          "metadata": {
            "tags": []
          },
          "execution_count": 15
        }
      ]
    },
    {
      "cell_type": "markdown",
      "metadata": {
        "id": "PyuQp4bPg1X-",
        "colab_type": "text"
      },
      "source": [
        "After the removing the outliers, the statistical values make more sense. Price have a high concentration between USD 50,00 to USD 150,00. These values is more affordable than the one in the outliers."
      ]
    },
    {
      "cell_type": "markdown",
      "metadata": {
        "id": "_UubE_S6hcja",
        "colab_type": "text"
      },
      "source": [
        "#### **Second variable is *MINIMUM_NIGHTS***"
      ]
    },
    {
      "cell_type": "markdown",
      "metadata": {
        "id": "rmNUGfh9hjYg",
        "colab_type": "text"
      },
      "source": [
        "Again starting with a boxplot:"
      ]
    },
    {
      "cell_type": "code",
      "metadata": {
        "id": "xlRHjnp5hmaa",
        "colab_type": "code",
        "colab": {
          "base_uri": "https://localhost:8080/",
          "height": 262
        },
        "outputId": "edeb2cf9-e0dc-4cbf-bf10-d2fe1aeaec4e"
      },
      "source": [
        "df_nights = df.copy()\n",
        "df_nights.minimum_nights.plot (kind = 'box', vert = False, figsize = (15,3))\n",
        "plt.show()\n",
        "\n",
        "print (\"Value above than 4:\")\n",
        "print (\"{} inputs\".format(len(df_nights[df_nights.minimum_nights > 4])))\n",
        "print (\"{:4%}\".format((len(df_nights[df_nights.minimum_nights > 4])/df_nights.shape[0])))"
      ],
      "execution_count": null,
      "outputs": [
        {
          "output_type": "display_data",
          "data": {
            "image/png": "[encoded data removed]",
            "text/plain": [
              "<Figure size 1080x216 with 1 Axes>"
            ]
          },
          "metadata": {
            "tags": [],
            "needs_background": "light"
          }
        },
        {
          "output_type": "stream",
          "text": [
            "Value above than 4:\n",
            "1364 inputs\n",
            "9.087881%\n"
          ],
          "name": "stdout"
        }
      ]
    },
    {
      "cell_type": "markdown",
      "metadata": {
        "id": "1TlUAzEtiHt3",
        "colab_type": "text"
      },
      "source": [
        "Again there are outliers above, but so many, less than 10% when value is above 4 days."
      ]
    },
    {
      "cell_type": "code",
      "metadata": {
        "id": "hSB0UZBqil1q",
        "colab_type": "code",
        "colab": {
          "base_uri": "https://localhost:8080/",
          "height": 211
        },
        "outputId": "1ec484b8-5895-4eff-dbb1-a37c6cbb6fb7"
      },
      "source": [
        "df_nights.drop (df_nights[df_nights.minimum_nights > 4].index, axis = 0, inplace = True)\n",
        "df_v2.drop (df_nights[df_nights.minimum_nights > 4].index, axis = 0, inplace = True)\n",
        "df_nights.minimum_nights.plot (kind = 'box', vert = False, figsize = (15,3))\n",
        "plt.show()"
      ],
      "execution_count": null,
      "outputs": [
        {
          "output_type": "display_data",
          "data": {
            "image/png": "[encoded data removed]",
            "text/plain": [
              "<Figure size 1080x216 with 1 Axes>"
            ]
          },
          "metadata": {
            "tags": [],
            "needs_background": "light"
          }
        }
      ]
    },
    {
      "cell_type": "code",
      "metadata": {
        "id": "rG1GP4-DoV9b",
        "colab_type": "code",
        "colab": {
          "base_uri": "https://localhost:8080/",
          "height": 592
        },
        "outputId": "961e73da-9f58-4c65-82be-7fb87c970cb9"
      },
      "source": [
        "df_nights.minimum_nights.hist(bins=15, figsize = (15,10));"
      ],
      "execution_count": null,
      "outputs": [
        {
          "output_type": "display_data",
          "data": {
            "image/png": "[encoded data removed]",
            "text/plain": [
              "<Figure size 1080x720 with 1 Axes>"
            ]
          },
          "metadata": {
            "tags": [],
            "needs_background": "light"
          }
        }
      ]
    },
    {
      "cell_type": "markdown",
      "metadata": {
        "id": "MeUzdbjgnwTC",
        "colab_type": "text"
      },
      "source": [
        "The boxplot without many outliers."
      ]
    },
    {
      "cell_type": "code",
      "metadata": {
        "id": "h8DUNVYpRXHR",
        "colab_type": "code",
        "colab": {
          "base_uri": "https://localhost:8080/",
          "height": 297
        },
        "outputId": "afc2382d-36dd-47aa-ae37-9fb100384f71"
      },
      "source": [
        "df_nights [['minimum_nights']].describe()"
      ],
      "execution_count": null,
      "outputs": [
        {
          "output_type": "execute_result",
          "data": {
            "text/html": [
              "<div>\n",
              "<style scoped>\n",
              "    .dataframe tbody tr th:only-of-type {\n",
              "        vertical-align: middle;\n",
              "    }\n",
              "\n",
              "    .dataframe tbody tr th {\n",
              "        vertical-align: top;\n",
              "    }\n",
              "\n",
              "    .dataframe thead th {\n",
              "        text-align: right;\n",
              "    }\n",
              "</style>\n",
              "<table border=\"1\" class=\"dataframe\">\n",
              "  <thead>\n",
              "    <tr style=\"text-align: right;\">\n",
              "      <th></th>\n",
              "      <th>minimum_nights</th>\n",
              "    </tr>\n",
              "  </thead>\n",
              "  <tbody>\n",
              "    <tr>\n",
              "      <th>count</th>\n",
              "      <td>13645.000000</td>\n",
              "    </tr>\n",
              "    <tr>\n",
              "      <th>mean</th>\n",
              "      <td>1.421107</td>\n",
              "    </tr>\n",
              "    <tr>\n",
              "      <th>std</th>\n",
              "      <td>0.643070</td>\n",
              "    </tr>\n",
              "    <tr>\n",
              "      <th>min</th>\n",
              "      <td>1.000000</td>\n",
              "    </tr>\n",
              "    <tr>\n",
              "      <th>25%</th>\n",
              "      <td>1.000000</td>\n",
              "    </tr>\n",
              "    <tr>\n",
              "      <th>50%</th>\n",
              "      <td>1.000000</td>\n",
              "    </tr>\n",
              "    <tr>\n",
              "      <th>75%</th>\n",
              "      <td>2.000000</td>\n",
              "    </tr>\n",
              "    <tr>\n",
              "      <th>max</th>\n",
              "      <td>4.000000</td>\n",
              "    </tr>\n",
              "  </tbody>\n",
              "</table>\n",
              "</div>"
            ],
            "text/plain": [
              "       minimum_nights\n",
              "count    13645.000000\n",
              "mean         1.421107\n",
              "std          0.643070\n",
              "min          1.000000\n",
              "25%          1.000000\n",
              "50%          1.000000\n",
              "75%          2.000000\n",
              "max          4.000000"
            ]
          },
          "metadata": {
            "tags": []
          },
          "execution_count": 19
        }
      ]
    },
    {
      "cell_type": "markdown",
      "metadata": {
        "id": "qJeILGZEjQIo",
        "colab_type": "text"
      },
      "source": [
        "So the data shows that most of the hosts prefer to offer at least 1 night. Sometimes, hosts choose two day at minimum, to ensure a weekend per example\n",
        "\n",
        "However, using one day, the hosts appear not to care renting for many days, maybe a reason can be because that Tokyo is still a more business city than touristic and some the visitors can be workers in travel."
      ]
    },
    {
      "cell_type": "markdown",
      "metadata": {
        "id": "HOzftLz6kLZo",
        "colab_type": "text"
      },
      "source": [
        "#### **Coordinates - Latitude & Longitude**"
      ]
    },
    {
      "cell_type": "markdown",
      "metadata": {
        "id": "kyUCLFCUntu6",
        "colab_type": "text"
      },
      "source": [
        "Search for outliers in coordinates, a few differences in this variable can make a huge change in position in the world.\n",
        "\n",
        "Using the coordinates to plot a scatter map will help to see how spread the points are."
      ]
    },
    {
      "cell_type": "code",
      "metadata": {
        "id": "_cxZMsqRlEI6",
        "colab_type": "code",
        "colab": {
          "base_uri": "https://localhost:8080/",
          "height": 472
        },
        "outputId": "a4e0c772-871a-46ba-8ceb-59fc11fe8588"
      },
      "source": [
        "df.plot (\n",
        "    kind='scatter', \n",
        "    x = 'longitude', \n",
        "    y = 'latitude', \n",
        "    alpha = 0.4,\n",
        "    c = df['price'],\n",
        "    s = 8,\n",
        "    cmap = plt.get_cmap ('jet'),\n",
        "    figsize = (12, 8)\n",
        "    );"
      ],
      "execution_count": null,
      "outputs": [
        {
          "output_type": "display_data",
          "data": {
            "image/png": "[encoded data removed]",
            "text/plain": [
              "<Figure size 864x576 with 2 Axes>"
            ]
          },
          "metadata": {
            "tags": [],
            "needs_background": "light"
          }
        }
      ]
    },
    {
      "cell_type": "markdown",
      "metadata": {
        "id": "MmHY8n4grmPP",
        "colab_type": "text"
      },
      "source": [
        "There are some points very far from the concentration on top-left, so choosing latitude 35º and longitude 140º as a limit to remove the points far away."
      ]
    },
    {
      "cell_type": "code",
      "metadata": {
        "id": "YgQ6-sUqkjOa",
        "colab_type": "code",
        "colab": {
          "base_uri": "https://localhost:8080/",
          "height": 262
        },
        "outputId": "90fabcf0-41e2-4e9e-c36a-0da3742b887f"
      },
      "source": [
        "df.latitude.plot (kind = 'box', vert = False, figsize = (15,3))\n",
        "plt.show()\n",
        "\n",
        "print (\"latitude: value under than 35:\")\n",
        "print (\"{} inputs\".format(len(df[df.latitude < 35])))\n",
        "print (\"{:4%}\".format((len(df[df.latitude < 35])/df.shape[0])))"
      ],
      "execution_count": null,
      "outputs": [
        {
          "output_type": "display_data",
          "data": {
            "image/png": "[encoded data removed]",
            "text/plain": [
              "<Figure size 1080x216 with 1 Axes>"
            ]
          },
          "metadata": {
            "tags": [],
            "needs_background": "light"
          }
        },
        {
          "output_type": "stream",
          "text": [
            "latitude: value under than 35:\n",
            "29 inputs\n",
            "0.193217%\n"
          ],
          "name": "stdout"
        }
      ]
    },
    {
      "cell_type": "code",
      "metadata": {
        "id": "NWXEp55tlZ8_",
        "colab_type": "code",
        "colab": {
          "base_uri": "https://localhost:8080/",
          "height": 262
        },
        "outputId": "e4ae1dec-d24a-488b-fcfd-9c7cd119c66d"
      },
      "source": [
        "df.longitude.plot (kind = 'box', vert = False, figsize = (15,3))\n",
        "plt.show()\n",
        "\n",
        "print (\"longitude: value over than 140:\")\n",
        "print (\"{} inputs\".format(len(df[df.longitude > 140])))\n",
        "print (\"{:4%}\".format((len(df[df.longitude > 140])/df.shape[0])))"
      ],
      "execution_count": null,
      "outputs": [
        {
          "output_type": "display_data",
          "data": {
            "image/png": "[encoded data removed]",
            "text/plain": [
              "<Figure size 1080x216 with 1 Axes>"
            ]
          },
          "metadata": {
            "tags": [],
            "needs_background": "light"
          }
        },
        {
          "output_type": "stream",
          "text": [
            "longitude: value over than 140:\n",
            "3 inputs\n",
            "0.019988%\n"
          ],
          "name": "stdout"
        }
      ]
    },
    {
      "cell_type": "markdown",
      "metadata": {
        "id": "j7AEnqQMoKAa",
        "colab_type": "text"
      },
      "source": [
        "In the boxplots above, there a few values very far from the others. These will be removed at first."
      ]
    },
    {
      "cell_type": "code",
      "metadata": {
        "id": "lEeY0Whell72",
        "colab_type": "code",
        "colab": {
          "base_uri": "https://localhost:8080/",
          "height": 211
        },
        "outputId": "38bfac5c-3e9c-4376-be39-7ae09542e1e5"
      },
      "source": [
        "df_coord = df.copy()\n",
        "\n",
        "df_coord.drop (df_coord[df_coord.latitude < 35].index, axis = 0, inplace = True)\n",
        "\n",
        "df_v2.drop (df_v2[df_v2.latitude < 35].index, axis = 0, inplace = True)\n",
        "\n",
        "df_coord.latitude.plot (kind = 'box', vert = False, figsize = (15,3))\n",
        "plt.show()"
      ],
      "execution_count": null,
      "outputs": [
        {
          "output_type": "display_data",
          "data": {
            "image/png": "[encoded data removed]",
            "text/plain": [
              "<Figure size 1080x216 with 1 Axes>"
            ]
          },
          "metadata": {
            "tags": [],
            "needs_background": "light"
          }
        }
      ]
    },
    {
      "cell_type": "code",
      "metadata": {
        "id": "57hO85nSl5R9",
        "colab_type": "code",
        "colab": {
          "base_uri": "https://localhost:8080/",
          "height": 211
        },
        "outputId": "f712514b-f659-434e-bb08-1fc8b806ca10"
      },
      "source": [
        "df_coord.drop (df_coord[df_coord.longitude > 140].index, axis = 0, inplace = True)\n",
        "\n",
        "df_v2.drop (df_v2[df_v2.longitude > 140].index, axis = 0, inplace = True)\n",
        "\n",
        "df_coord.longitude.plot (kind = 'box', vert = False, figsize = (15,3))\n",
        "plt.show()"
      ],
      "execution_count": null,
      "outputs": [
        {
          "output_type": "display_data",
          "data": {
            "image/png": "[encoded data removed]",
            "text/plain": [
              "<Figure size 1080x216 with 1 Axes>"
            ]
          },
          "metadata": {
            "tags": [],
            "needs_background": "light"
          }
        }
      ]
    },
    {
      "cell_type": "code",
      "metadata": {
        "id": "wDDHVllCmCO3",
        "colab_type": "code",
        "colab": {
          "base_uri": "https://localhost:8080/",
          "height": 472
        },
        "outputId": "a7e15866-979c-43ad-bbca-7844345d0e5a"
      },
      "source": [
        "df_v2.plot (\n",
        "    kind='scatter', \n",
        "    x = 'longitude', \n",
        "    y = 'latitude', \n",
        "    alpha = 0.4,\n",
        "    c = df_v2['price'],\n",
        "    s = 8,\n",
        "    cmap = plt.get_cmap ('jet'),\n",
        "    figsize = (12, 8)\n",
        "    );"
      ],
      "execution_count": null,
      "outputs": [
        {
          "output_type": "display_data",
          "data": {
            "image/png": "[encoded data removed]",
            "text/plain": [
              "<Figure size 864x576 with 2 Axes>"
            ]
          },
          "metadata": {
            "tags": [],
            "needs_background": "light"
          }
        }
      ]
    },
    {
      "cell_type": "markdown",
      "metadata": {
        "id": "g0u1gFivsIqh",
        "colab_type": "text"
      },
      "source": [
        "After removing those points, the scatter plot resemble to Tokyo city."
      ]
    },
    {
      "cell_type": "markdown",
      "metadata": {
        "id": "MNe6Dw-5g4f_",
        "colab_type": "text"
      },
      "source": [
        "To complete this section, is needed to do a deep search in the database the about the outliers coordinates."
      ]
    },
    {
      "cell_type": "code",
      "metadata": {
        "id": "JlNPqmj4dtjE",
        "colab_type": "code",
        "colab": {
          "base_uri": "https://localhost:8080/",
          "height": 51
        },
        "outputId": "41cc7121-02e1-4245-9fdf-f2a3f46fca77"
      },
      "source": [
        "long = df[df['longitude'] > 140].neighbourhood.value_counts()\n",
        "print (long)"
      ],
      "execution_count": null,
      "outputs": [
        {
          "output_type": "stream",
          "text": [
            "Ogasawara Mura    3\n",
            "Name: neighbourhood, dtype: int64\n"
          ],
          "name": "stdout"
        }
      ]
    },
    {
      "cell_type": "code",
      "metadata": {
        "id": "PhuGGX4psVgQ",
        "colab_type": "code",
        "colab": {
          "base_uri": "https://localhost:8080/",
          "height": 119
        },
        "outputId": "5c2d9b8d-c181-4063-cdc6-5e873662ac81"
      },
      "source": [
        "lat = df[df['latitude'] < 35].neighbourhood.value_counts()\n",
        "print (lat)"
      ],
      "execution_count": null,
      "outputs": [
        {
          "output_type": "stream",
          "text": [
            "Oshima Machi      15\n",
            "Hachijo Machi      6\n",
            "Ogasawara Mura     3\n",
            "Niijima Mura       3\n",
            "Miyake Mura        2\n",
            "Name: neighbourhood, dtype: int64\n"
          ],
          "name": "stdout"
        }
      ]
    },
    {
      "cell_type": "code",
      "metadata": {
        "id": "h8YhG5XtWiyw",
        "colab_type": "code",
        "colab": {
          "base_uri": "https://localhost:8080/",
          "height": 136
        },
        "outputId": "1eec31ee-6a73-4c6f-ec06-35f94a9804e0"
      },
      "source": [
        "df.drop (df[df.latitude > 35].index, axis = 0, inplace = True)\n",
        "df.groupby(\"neighbourhood\")['price'].mean()"
      ],
      "execution_count": null,
      "outputs": [
        {
          "output_type": "execute_result",
          "data": {
            "text/plain": [
              "neighbourhood\n",
              "Hachijo Machi      93.415477\n",
              "Miyake Mura       139.873707\n",
              "Niijima Mura       93.246029\n",
              "Ogasawara Mura     71.858298\n",
              "Oshima Machi       77.740779\n",
              "Name: price, dtype: float64"
            ]
          },
          "metadata": {
            "tags": []
          },
          "execution_count": 28
        }
      ]
    },
    {
      "cell_type": "markdown",
      "metadata": {
        "id": "OuqadUv-vUqw",
        "colab_type": "text"
      },
      "source": [
        "After searching through the internet, Tokyo has some islands. Different from the capital, they are an escape to a more natural place. Each of them has its own beauty.\n",
        "\n",
        "* Oshima - approximately 100km from the capital. There is an active vulcan that dominated the landscape and the flora of the island.\n",
        "* To-shima - about 150 km from the capital. An island with crystal water where people can do scuba diving and see the water fauna.\n",
        "* Niijima - approx. 163 km far. Beautiful beach with white sand, big waves, ideal for surfers\n",
        "* Kouzushima - 190 km far. In center of the island, Mt. Tenjo has 574m tall where people go for hiking. Another attraction is Akasaki Promenade is a wood walking path through a rock cliff near the ocean.\n",
        "* Miyake - 190 km far too. This island once had sulfuric gases flown through the earth in the past, so carrying a gas mask are a must in case of an emergency. In this island there are approximately 250 birds' species, also called the Bird Island, the people can do bird watching tourism.\n",
        "* Mikurajima - distance about 200m. It's famous because the tourists can swim with dolphins.\n",
        "* Hachijo - approximately 290 km from Tokyo. An island formed by two inactive vulcans about 650m and 850m tall. Hiking is a favorite activity in the island\n",
        "* Aogashima - almost 370 km. This island have a very difficult access because of the geological structure, the entire island is a crater of an inactive vulcan. It's famous for stargazing.\n",
        "* Ogasawara - distance about 1000 km from Tokyo, it's an archipelago formed about 30 islands and it received the UNESCO's World Natural Heritage. Far from the main land and having unique fauna and flora, many places are protected and off-trail hiking and campaign are not allowed. It's the most stunning islands to visit, with beautiful beaches, many coral reefs, untamed nature and wildlife.\n",
        "\n",
        "<p align=\"center\">\n",
        "<img alt=\"edge\" width=\"40%\" src=\"https://github.com/bertokawa/dsnp_1_airbnb_tokyo/blob/images/images/hayato-shin-zcKuJ3YJFmw-unsplash.jpg?raw=true\">\n",
        "</p>\n",
        "\n",
        "<p align=\"center\">\n",
        "<span>Kozushima - Photo by <a href=\"https://unsplash.com/@hytshin?utm_source=unsplash&amp;utm_medium=referral&amp;utm_content=creditCopyText\">Hayato Shin</a> on <a href=\"/s/photos/tokyo-islands?utm_source=unsplash&amp;utm_medium=referral&amp;utm_content=creditCopyText\">Unsplash</a></span>\n",
        "</p>"
      ]
    },
    {
      "cell_type": "markdown",
      "metadata": {
        "id": "IXn2oIo5qx-w",
        "colab_type": "text"
      },
      "source": [
        "### **Correlation**"
      ]
    },
    {
      "cell_type": "markdown",
      "metadata": {
        "id": "_hm53WlmqFv_",
        "colab_type": "text"
      },
      "source": [
        "Next step is the *Correlation*, this means if there are dependencies between them and how each of them is related. In Seaborn package is possible to visualize the correlation."
      ]
    },
    {
      "cell_type": "code",
      "metadata": {
        "id": "x2ayzBajqxyd",
        "colab_type": "code",
        "colab": {
          "base_uri": "https://localhost:8080/",
          "height": 317
        },
        "outputId": "18e20448-bfbc-421f-abc1-5efa0a5feeb5"
      },
      "source": [
        "corr = df_v2 [[\n",
        "              'price',\n",
        "              'minimum_nights',\n",
        "              'number_of_reviews',\n",
        "              'reviews_per_month',\n",
        "              'latitude',\n",
        "              'longitude',\n",
        "              'calculated_host_listings_count',\n",
        "              'availability_365'\n",
        "              ]].corr()\n",
        "\n",
        "display (corr)"
      ],
      "execution_count": null,
      "outputs": [
        {
          "output_type": "display_data",
          "data": {
            "text/html": [
              "<div>\n",
              "<style scoped>\n",
              "    .dataframe tbody tr th:only-of-type {\n",
              "        vertical-align: middle;\n",
              "    }\n",
              "\n",
              "    .dataframe tbody tr th {\n",
              "        vertical-align: top;\n",
              "    }\n",
              "\n",
              "    .dataframe thead th {\n",
              "        text-align: right;\n",
              "    }\n",
              "</style>\n",
              "<table border=\"1\" class=\"dataframe\">\n",
              "  <thead>\n",
              "    <tr style=\"text-align: right;\">\n",
              "      <th></th>\n",
              "      <th>price</th>\n",
              "      <th>minimum_nights</th>\n",
              "      <th>number_of_reviews</th>\n",
              "      <th>reviews_per_month</th>\n",
              "      <th>latitude</th>\n",
              "      <th>longitude</th>\n",
              "      <th>calculated_host_listings_count</th>\n",
              "      <th>availability_365</th>\n",
              "    </tr>\n",
              "  </thead>\n",
              "  <tbody>\n",
              "    <tr>\n",
              "      <th>price</th>\n",
              "      <td>1.000000</td>\n",
              "      <td>-0.078388</td>\n",
              "      <td>-0.024652</td>\n",
              "      <td>0.070761</td>\n",
              "      <td>-0.092424</td>\n",
              "      <td>0.063150</td>\n",
              "      <td>-0.126827</td>\n",
              "      <td>0.026504</td>\n",
              "    </tr>\n",
              "    <tr>\n",
              "      <th>minimum_nights</th>\n",
              "      <td>-0.078388</td>\n",
              "      <td>1.000000</td>\n",
              "      <td>-0.031986</td>\n",
              "      <td>-0.111499</td>\n",
              "      <td>0.014975</td>\n",
              "      <td>-0.035897</td>\n",
              "      <td>0.135189</td>\n",
              "      <td>0.035874</td>\n",
              "    </tr>\n",
              "    <tr>\n",
              "      <th>number_of_reviews</th>\n",
              "      <td>-0.024652</td>\n",
              "      <td>-0.031986</td>\n",
              "      <td>1.000000</td>\n",
              "      <td>0.717656</td>\n",
              "      <td>-0.054774</td>\n",
              "      <td>-0.047962</td>\n",
              "      <td>-0.157988</td>\n",
              "      <td>0.045509</td>\n",
              "    </tr>\n",
              "    <tr>\n",
              "      <th>reviews_per_month</th>\n",
              "      <td>0.070761</td>\n",
              "      <td>-0.111499</td>\n",
              "      <td>0.717656</td>\n",
              "      <td>1.000000</td>\n",
              "      <td>-0.064619</td>\n",
              "      <td>-0.006896</td>\n",
              "      <td>-0.147624</td>\n",
              "      <td>0.039937</td>\n",
              "    </tr>\n",
              "    <tr>\n",
              "      <th>latitude</th>\n",
              "      <td>-0.092424</td>\n",
              "      <td>0.014975</td>\n",
              "      <td>-0.054774</td>\n",
              "      <td>-0.064619</td>\n",
              "      <td>1.000000</td>\n",
              "      <td>0.195377</td>\n",
              "      <td>0.108547</td>\n",
              "      <td>-0.011245</td>\n",
              "    </tr>\n",
              "    <tr>\n",
              "      <th>longitude</th>\n",
              "      <td>0.063150</td>\n",
              "      <td>-0.035897</td>\n",
              "      <td>-0.047962</td>\n",
              "      <td>-0.006896</td>\n",
              "      <td>0.195377</td>\n",
              "      <td>1.000000</td>\n",
              "      <td>0.048879</td>\n",
              "      <td>0.001386</td>\n",
              "    </tr>\n",
              "    <tr>\n",
              "      <th>calculated_host_listings_count</th>\n",
              "      <td>-0.126827</td>\n",
              "      <td>0.135189</td>\n",
              "      <td>-0.157988</td>\n",
              "      <td>-0.147624</td>\n",
              "      <td>0.108547</td>\n",
              "      <td>0.048879</td>\n",
              "      <td>1.000000</td>\n",
              "      <td>0.001827</td>\n",
              "    </tr>\n",
              "    <tr>\n",
              "      <th>availability_365</th>\n",
              "      <td>0.026504</td>\n",
              "      <td>0.035874</td>\n",
              "      <td>0.045509</td>\n",
              "      <td>0.039937</td>\n",
              "      <td>-0.011245</td>\n",
              "      <td>0.001386</td>\n",
              "      <td>0.001827</td>\n",
              "      <td>1.000000</td>\n",
              "    </tr>\n",
              "  </tbody>\n",
              "</table>\n",
              "</div>"
            ],
            "text/plain": [
              "                                   price  ...  availability_365\n",
              "price                           1.000000  ...          0.026504\n",
              "minimum_nights                 -0.078388  ...          0.035874\n",
              "number_of_reviews              -0.024652  ...          0.045509\n",
              "reviews_per_month               0.070761  ...          0.039937\n",
              "latitude                       -0.092424  ...         -0.011245\n",
              "longitude                       0.063150  ...          0.001386\n",
              "calculated_host_listings_count -0.126827  ...          0.001827\n",
              "availability_365                0.026504  ...          1.000000\n",
              "\n",
              "[8 rows x 8 columns]"
            ]
          },
          "metadata": {
            "tags": []
          }
        }
      ]
    },
    {
      "cell_type": "code",
      "metadata": {
        "id": "cUpb1vliFI4d",
        "colab_type": "code",
        "colab": {
          "base_uri": "https://localhost:8080/",
          "height": 411
        },
        "outputId": "c5457bfd-8f84-4cbb-955f-5075c28d9e4a"
      },
      "source": [
        "# plotar um heatmap a partir das correlações\n",
        "sns.heatmap (corr, cmap = 'RdBu', fmt = '.2f', square = True, linecolor = 'white', annot = True);"
      ],
      "execution_count": null,
      "outputs": [
        {
          "output_type": "display_data",
          "data": {
            "image/png": "[encoded data removed]",
            "text/plain": [
              "<Figure size 432x288 with 2 Axes>"
            ]
          },
          "metadata": {
            "tags": [],
            "needs_background": "light"
          }
        }
      ]
    },
    {
      "cell_type": "markdown",
      "metadata": {
        "id": "WgmwF5KrGMzq",
        "colab_type": "text"
      },
      "source": [
        "The heatmap shows that almost all variables don't have any correlation, showing values near zero. With exception the *number_of_reviews* and *reviews_per_month*, one is consequence from the other."
      ]
    },
    {
      "cell_type": "markdown",
      "metadata": {
        "id": "7b6RMWpuHKN-",
        "colab_type": "text"
      },
      "source": [
        "### **Place to stay**"
      ]
    },
    {
      "cell_type": "markdown",
      "metadata": {
        "id": "cgCdvuLAzOvf",
        "colab_type": "text"
      },
      "source": [
        "#### **Type of the room**"
      ]
    },
    {
      "cell_type": "markdown",
      "metadata": {
        "id": "yIQ2JLlRLhkG",
        "colab_type": "text"
      },
      "source": [
        "The hosts in the Airbnb can offer many kinds of places, like an individual room, shared room, entire house or apartment.\n",
        "\n",
        "So the distribution in Tokyo is:"
      ]
    },
    {
      "cell_type": "code",
      "metadata": {
        "id": "ueLPNWvPHgfB",
        "colab_type": "code",
        "colab": {
          "base_uri": "https://localhost:8080/",
          "height": 503
        },
        "outputId": "662a4881-5e78-47dc-e04b-2f661bc8eaeb"
      },
      "source": [
        "type_place = df_v2['room_type'].value_counts()\n",
        "print (type_place)\n",
        "print(\"\\n\")\n",
        "\n",
        "type_place_p = type_place / df_v2.shape[0] * 100\n",
        "print (type_place_p)\n",
        "print(\"\\n\")\n",
        "\n",
        "df_v2.room_type.hist();"
      ],
      "execution_count": null,
      "outputs": [
        {
          "output_type": "stream",
          "text": [
            "Entire home/apt    7952\n",
            "Private room       3089\n",
            "Shared room         668\n",
            "Hotel room          579\n",
            "Name: room_type, dtype: int64\n",
            "\n",
            "\n",
            "Entire home/apt    64.713542\n",
            "Private room       25.138346\n",
            "Shared room         5.436198\n",
            "Hotel room          4.711914\n",
            "Name: room_type, dtype: float64\n",
            "\n",
            "\n"
          ],
          "name": "stdout"
        },
        {
          "output_type": "display_data",
          "data": {
            "image/png": "[encoded data removed]",
            "text/plain": [
              "<Figure size 432x288 with 1 Axes>"
            ]
          },
          "metadata": {
            "tags": [],
            "needs_background": "light"
          }
        }
      ]
    },
    {
      "cell_type": "markdown",
      "metadata": {
        "id": "cLEuGgkYrNqw",
        "colab_type": "text"
      },
      "source": [
        "Airbnb offers more private places for the users, 7952 entire places and 3089 private rooms, all of this type of accommodation is almost 90%."
      ]
    },
    {
      "cell_type": "markdown",
      "metadata": {
        "id": "MFa5NbnLJMcd",
        "colab_type": "text"
      },
      "source": [
        "#### **And the neighborhood**\n",
        "\n"
      ]
    },
    {
      "cell_type": "markdown",
      "metadata": {
        "id": "BHPcyl0WhJ2n",
        "colab_type": "text"
      },
      "source": [
        "Checking the data from neighborhood variable for some conclusions.\n",
        "\n",
        "First, price:"
      ]
    },
    {
      "cell_type": "code",
      "metadata": {
        "id": "uM-yrMxoeRBr",
        "colab_type": "code",
        "colab": {
          "base_uri": "https://localhost:8080/",
          "height": 136
        },
        "outputId": "86b4baec-d284-47e3-e4c9-258329198848"
      },
      "source": [
        "df_v2.groupby(['neighbourhood']).price.mean().sort_values(ascending = False) [:5]"
      ],
      "execution_count": null,
      "outputs": [
        {
          "output_type": "execute_result",
          "data": {
            "text/plain": [
              "neighbourhood\n",
              "Hinohara Mura    137.404278\n",
              "Shibuya Ku       120.717582\n",
              "Okutama Machi    119.948513\n",
              "Minato Ku        117.670562\n",
              "Mitaka Shi       112.700500\n",
              "Name: price, dtype: float64"
            ]
          },
          "metadata": {
            "tags": []
          },
          "execution_count": 32
        }
      ]
    },
    {
      "cell_type": "markdown",
      "metadata": {
        "id": "rYY04GdlscCE",
        "colab_type": "text"
      },
      "source": [
        "Sees how many accommodations is in each neighborhoods above"
      ]
    },
    {
      "cell_type": "code",
      "metadata": {
        "id": "vcQgvmRauM8b",
        "colab_type": "code",
        "colab": {
          "base_uri": "https://localhost:8080/",
          "height": 102
        },
        "outputId": "8ff0c4e7-bc1f-4ce3-db1d-9bd94c190de1"
      },
      "source": [
        "print (\"Hinohara Mura:{}\".format(df_v2[df_v2.neighbourhood == 'Hinohara Mura'].shape[0]))\n",
        "print (\"Shibuya Ku:{}\".format(df_v2[df_v2.neighbourhood == 'Shibuya Ku'].shape[0]))\n",
        "print (\"Okutama Machi:{}\".format(df_v2[df_v2.neighbourhood == 'Okutama Machi'].shape[0]))\n",
        "print (\"Minato Ku:{}\".format(df_v2[df_v2.neighbourhood == 'Minato Ku'].shape[0]))\n",
        "print (\"Mitaka Shi:{}\".format(df_v2[df_v2.neighbourhood == 'Mitaka Shi'].shape[0]))"
      ],
      "execution_count": null,
      "outputs": [
        {
          "output_type": "stream",
          "text": [
            "Hinohara Mura:4\n",
            "Shibuya Ku:847\n",
            "Okutama Machi:5\n",
            "Minato Ku:458\n",
            "Mitaka Shi:15\n"
          ],
          "name": "stdout"
        }
      ]
    },
    {
      "cell_type": "markdown",
      "metadata": {
        "id": "e1usu2t-1VNi",
        "colab_type": "text"
      },
      "source": [
        "Three neighborhoods, *Hinohara Mura*, *Okutama Machi*, *Mitaka Shi*, appear with high prices but they have low number of places. So, it's not possible to be sure how expensive they are.\n",
        "\n",
        "So among the results, *Shibuya Ku* and *Minato Ku* require some attention"
      ]
    },
    {
      "cell_type": "markdown",
      "metadata": {
        "id": "uQpCx4n0_nBU",
        "colab_type": "text"
      },
      "source": [
        "To complete the information, is needed to see the numbers of the places are spread through the neighborhood."
      ]
    },
    {
      "cell_type": "code",
      "metadata": {
        "id": "VTexFEdLkWkf",
        "colab_type": "code",
        "colab": {
          "base_uri": "https://localhost:8080/",
          "height": 119
        },
        "outputId": "b2579eee-e031-48bb-de0c-bb00b2b5695e"
      },
      "source": [
        "df_v2.neighbourhood.value_counts().sort_values(ascending = False)[:5]"
      ],
      "execution_count": null,
      "outputs": [
        {
          "output_type": "execute_result",
          "data": {
            "text/plain": [
              "Shinjuku Ku    2242\n",
              "Taito Ku       1583\n",
              "Toshima Ku     1347\n",
              "Sumida Ku      1064\n",
              "Shibuya Ku      847\n",
              "Name: neighbourhood, dtype: int64"
            ]
          },
          "metadata": {
            "tags": []
          },
          "execution_count": 34
        }
      ]
    },
    {
      "cell_type": "markdown",
      "metadata": {
        "id": "SKTo0QW9wQlk",
        "colab_type": "text"
      },
      "source": [
        "In here, let's see the two first with high number of accommodations: *Shinjuku Ku* and *Taito Ku*."
      ]
    },
    {
      "cell_type": "markdown",
      "metadata": {
        "id": "Hg8tCiDjBZe0",
        "colab_type": "text"
      },
      "source": [
        "Little descriptions of theses four neighborhoods:\n",
        "* Shibuya Ku: is one of the most modern places in Tokyo with the establishments such as shopping malls and bars aimed for the young. One of the most famous spots is the Shibuya Crossing, the largest intersection in the world.\n",
        "\n",
        "<p align=\"center\">\n",
        "  <img alt=\"shibuya\" width=\"45%\" src=\"https://github.com/bertokawa/dsnp_1_airbnb_tokyo/blob/images/images/edward-ma-1bBRjHcMZNY-unsplash.jpg?raw=true\" style=\"horizontal-align:middle\">\n",
        "</p>\n",
        "\n",
        "<p align=\"center\">\n",
        "  <span>Photo by <a href=\"https://unsplash.com/@makcedward?utm_source=unsplash&amp;utm_medium=referral&amp;utm_content=creditCopyText\">Edward Ma</a> on <a href=\"/s/photos/shibuya?utm_source=unsplash&amp;utm_medium=referral&amp;utm_content=creditCopyText\">Unsplash</a></span>\n",
        "</p>\n",
        "\n",
        "* Shinjuku Ku: another modern part of the capital, but aimed for public in general. With some skyscrapers, electronics stores, bars. One of the main attractions is Tokyo Metropolitan Government Office, a skyscraper with an observatory at 200 meters tall.\n",
        "\n",
        "<p align=\"center\">\n",
        "  <img alt=\"Shinjuku\" width=\"45%\" src=\"https://github.com/bertokawa/dsnp_1_airbnb_tokyo/blob/images/images/gilly-_EBOeN3XBOM-unsplash.jpg?raw=true\"/>\n",
        "</p>\n",
        "\n",
        "<p align=\"center\">\n",
        "  <span>View from the observatory - Photo by <a href=\"https://unsplash.com/@gillyberlin?utm_source=unsplash&amp;utm_medium=referral&amp;utm_content=creditCopyText\">Gilly</a> on <a href=\"/s/photos/tokyo-metropolitan-government?utm_source=unsplash&amp;utm_medium=referral&amp;utm_content=creditCopyText\">Unsplash</a></span>\n",
        "</p>\n",
        "\n",
        "* Minato Ku: is one of the most international areas. Many companies established headquarters there, so it's a neighborhood structured for foreigners. The Tokyo Tower is a famous there, an antenna based on Eiffel Tower, used for telecommunication and on its base there a museum and a restaurant for tourists.\n",
        "\n",
        "<p align=\"center\">\n",
        "  <img alt=\"tokyo_tower\" width=\"45%\" src=\"https://github.com/bertokawa/dsnp_1_airbnb_tokyo/blob/images/images/yu-kato-bBhkqp_qCck-unsplash.jpg?raw=true\"/>\n",
        "</p>\n",
        "\n",
        "<p align=\"center\">\n",
        "  <span>Photo by <a href=\"https://unsplash.com/@yukato?utm_source=unsplash&amp;utm_medium=referral&amp;utm_content=creditCopyText\">Yu Kato</a> on <a href=\"/s/photos/tokyo-tower?utm_source=unsplash&amp;utm_medium=referral&amp;utm_content=creditCopyText\">Unsplash</a></span>\n",
        "</p>\n",
        "\n",
        "* Taito Ku: is more known for the Japanese culture, with old shrines and temples, Japanese traditional food. Ueno Park is famous for the Tokyo National Museum and is one of the places where tourists can see the cherry blossoms.\n",
        "\n",
        "<p align=\"center\">\n",
        "  <img alt=\"ueno_park\" width=\"45%\" src=\"https://github.com/bertokawa/dsnp_1_airbnb_tokyo/blob/images/images/dlkr-life-NKqBP5dJ8uY-unsplash.jpg?raw=true\"/>\n",
        "</p>\n",
        "\n",
        "<p align=\"center\">\n",
        "  <span>Photo by <a href=\"https://unsplash.com/@dlkrlife?utm_source=unsplash&amp;utm_medium=referral&amp;utm_content=creditCopyText\">DLKR Life</a> on <a href=\"/s/photos/ueno-park?utm_source=unsplash&amp;utm_medium=referral&amp;utm_content=creditCopyText\">Unsplash</a></span>\n",
        "</p>"
      ]
    },
    {
      "cell_type": "code",
      "metadata": {
        "id": "1FgVoGXaA5Ay",
        "colab_type": "code",
        "colab": {
          "base_uri": "https://localhost:8080/",
          "height": 221
        },
        "outputId": "7a5c20e0-d923-4e9b-a5cc-58e51cdaaae6"
      },
      "source": [
        "df_v2.groupby(['neighbourhood']).number_of_reviews.sum().sort_values(ascending=False)[:10]"
      ],
      "execution_count": null,
      "outputs": [
        {
          "output_type": "execute_result",
          "data": {
            "text/plain": [
              "neighbourhood\n",
              "Shinjuku Ku    61127\n",
              "Taito Ku       37907\n",
              "Toshima Ku     33739\n",
              "Shibuya Ku     32613\n",
              "Sumida Ku      27765\n",
              "Minato Ku      13988\n",
              "Suginami Ku    12985\n",
              "Nakano Ku      12904\n",
              "Setagaya Ku    12415\n",
              "Chuo Ku        11347\n",
              "Name: number_of_reviews, dtype: int64"
            ]
          },
          "metadata": {
            "tags": []
          },
          "execution_count": 50
        }
      ]
    },
    {
      "cell_type": "markdown",
      "metadata": {
        "id": "OiOUS0RY9nZh",
        "colab_type": "text"
      },
      "source": [
        "All these selected neighborhoods have its own type of attraction and using the *number_of_reviews* is possible to see that many people stayed in these places, reinforcing that are good options to choose."
      ]
    },
    {
      "cell_type": "markdown",
      "metadata": {
        "id": "GkvAg623RjoR",
        "colab_type": "text"
      },
      "source": [
        "## Conclusions\n",
        "\n",
        "With the end of the project, it is possible to see that Tokyo is a capital with different life styles and activities. It have a modern part with skyscrapers, all kind of malls, bars. Also, you can see the traditional and ancient culture of Japan, food, temples and shrines.\n",
        "\n",
        "Even if you want to escape the routine of the city, it is possible to visit a  natural side, such as the islands of Tokyo. Each one offers unique and different attractions, like swimming with dolphins, beaches with crystal waters, hiking through forests and mountains, even stargazing.\n",
        "\n",
        "Normally Airbnb offers more entire places to stay than only rooms for a price in a range of USD 50,00 to USD 150,00. Also, the tourists can stay a night in one place and then change to another neighborhood on the other day, because many places offers one night minimum, allowing the tourist to visit many parts of the city.\n",
        "\n",
        "Tokyo is an interesting destination, with many options of entertainment and sightseeing a through a modern, traditional or natural choices."
      ]
    }
  ]
}